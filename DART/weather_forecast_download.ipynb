{
 "cells": [
  {
   "cell_type": "code",
   "execution_count": 18,
   "metadata": {},
   "outputs": [
    {
     "data": {
      "text/plain": [
       "array([[[275.06537]]])"
      ]
     },
     "execution_count": 18,
     "metadata": {},
     "output_type": "execute_result"
    }
   ],
   "source": [
    "import getgfs\n",
    "\n",
    "# Initialize the Forecast object with desired resolution\n",
    "forecast = getgfs.Forecast(\"0p25\")  # 0.25-degree resolution\n",
    "\n",
    "# Search for the desired variable, e.g., temperature\n",
    "variables = forecast.search(\"temperature\")\n",
    "\n",
    "# Specify the desired parameters\n",
    "variable_name = \"tmp2m\"  # 2-meter temperature\n",
    "date_time = \"2025-01-11 04:00\"  # Requested date and time\n",
    "latitude = 40.6  # Example latitude\n",
    "longitude = -74.1  # Example longitude\n",
    "\n",
    "# Download the data\n",
    "data = forecast.get([variable_name], date_time, latitude, longitude)\n",
    "\n",
    "# Access the downloaded data\n",
    "temperature_data = data.variables[variable_name].data\n",
    "\n",
    "temperature_data\n"
   ]
  },
  {
   "cell_type": "code",
   "execution_count": 9,
   "metadata": {},
   "outputs": [
    {
     "data": {
      "text/plain": [
       "array([[[277.00754]]])"
      ]
     },
     "execution_count": 9,
     "metadata": {},
     "output_type": "execute_result"
    }
   ],
   "source": [
    "temperature_data"
   ]
  },
  {
   "cell_type": "code",
   "execution_count": null,
   "metadata": {},
   "outputs": [],
   "source": []
  }
 ],
 "metadata": {
  "kernelspec": {
   "display_name": "venv",
   "language": "python",
   "name": "python3"
  },
  "language_info": {
   "codemirror_mode": {
    "name": "ipython",
    "version": 3
   },
   "file_extension": ".py",
   "mimetype": "text/x-python",
   "name": "python",
   "nbconvert_exporter": "python",
   "pygments_lexer": "ipython3",
   "version": "3.11.3"
  }
 },
 "nbformat": 4,
 "nbformat_minor": 2
}
