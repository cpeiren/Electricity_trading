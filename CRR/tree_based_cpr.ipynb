{
 "cells": [
  {
   "cell_type": "code",
   "execution_count": 2,
   "metadata": {},
   "outputs": [],
   "source": [
    "import pandas as pd\n",
    "import numpy as np\n",
    "import os\n",
    "import re\n",
    "import random\n",
    "import matplotlib.pyplot as plt\n",
    "import plotly.express as px\n",
    "import plotly.graph_objects as go\n",
    "from plotly.subplots import make_subplots\n",
    "import plotly.io as pio\n",
    "import glob\n",
    "from sklearn.linear_model import LinearRegression\n",
    "from sklearn.metrics import mean_squared_error, r2_score\n",
    "import statsmodels.api as sm\n",
    "from datetime import datetime\n",
    "\n",
    "from dateutil.relativedelta import relativedelta\n"
   ]
  },
  {
   "cell_type": "code",
   "execution_count": 3,
   "metadata": {},
   "outputs": [],
   "source": [
    "def read_lmp_hourly(folder_path):\n",
    "    \"\"\"\n",
    "    Reads all CSV files in the specified folder and combines them into a single DataFrame.\n",
    "    \n",
    "    Parameters:\n",
    "    folder_path (str): Path to the folder containing the CSV files.\n",
    "    \n",
    "    Returns:\n",
    "    pandas.DataFrame: Combined DataFrame of all CSV files.\n",
    "    \"\"\"\n",
    "    # Use glob to find all CSV files in the folder\n",
    "    csv_files = glob.glob(folder_path + '*.csv')\n",
    "    \n",
    "    # Read each CSV file and concatenate them into a single DataFrame\n",
    "    df_list = [pd.read_csv(file) for file in csv_files]\n",
    "    combined_df = pd.concat(df_list, ignore_index=True)\n",
    "    combined_df['date'] = pd.to_datetime(combined_df['DeliveryDate'].apply(str)).dt.to_period('D').dt.to_timestamp()\n",
    "    combined_df['month'] = combined_df['date'].dt.to_period('M').dt.to_timestamp()\n",
    "    \n",
    "    def extract_hour(time_str): # extract hour for dam price , LMPhourly\n",
    "        return int(time_str.split(':')[0])\n",
    "    combined_df['hour'] = combined_df['HourEnding'].apply(extract_hour)\n",
    "    \n",
    "    return combined_df"
   ]
  },
  {
   "cell_type": "code",
   "execution_count": 4,
   "metadata": {},
   "outputs": [],
   "source": [
    "top_df = pd.read_csv(\"tree_method_top.csv\") #most traded \n",
    "tail_df = pd.read_csv(\"tree_method_tail.csv\") #least traded\n",
    "LMP_hourly = read_lmp_hourly(\"Dayahead_Price/\")\n",
    "# top_df = top_df[top_df['ShadowPricePerMWH']>0]"
   ]
  },
  {
   "cell_type": "code",
   "execution_count": 5,
   "metadata": {},
   "outputs": [
    {
     "data": {
      "text/html": [
       "<div>\n",
       "<style scoped>\n",
       "    .dataframe tbody tr th:only-of-type {\n",
       "        vertical-align: middle;\n",
       "    }\n",
       "\n",
       "    .dataframe tbody tr th {\n",
       "        vertical-align: top;\n",
       "    }\n",
       "\n",
       "    .dataframe thead th {\n",
       "        text-align: right;\n",
       "    }\n",
       "</style>\n",
       "<table border=\"1\" class=\"dataframe\">\n",
       "  <thead>\n",
       "    <tr style=\"text-align: right;\">\n",
       "      <th></th>\n",
       "      <th>Source</th>\n",
       "      <th>Sink</th>\n",
       "      <th>TimeOfUse</th>\n",
       "      <th>StartDate</th>\n",
       "      <th>EndDate</th>\n",
       "      <th>ShadowPricePerMWH</th>\n",
       "      <th>date</th>\n",
       "      <th>duration</th>\n",
       "      <th>auction_info</th>\n",
       "      <th>score</th>\n",
       "      <th>auction_date</th>\n",
       "      <th>agg_MW</th>\n",
       "      <th>CRRPerMWH</th>\n",
       "    </tr>\n",
       "  </thead>\n",
       "  <tbody>\n",
       "    <tr>\n",
       "      <th>0</th>\n",
       "      <td>CBECII_89</td>\n",
       "      <td>HB_HOUSTON</td>\n",
       "      <td>Off-peak</td>\n",
       "      <td>01/01/2024</td>\n",
       "      <td>03/31/2024</td>\n",
       "      <td>1.024268</td>\n",
       "      <td>2024-01-01</td>\n",
       "      <td>3</td>\n",
       "      <td>2024.1st6.AnnualAuction.Seq2</td>\n",
       "      <td>0.070303</td>\n",
       "      <td>2023-05-16</td>\n",
       "      <td>12528.0</td>\n",
       "      <td>0.143732</td>\n",
       "    </tr>\n",
       "    <tr>\n",
       "      <th>1</th>\n",
       "      <td>CBECII_89</td>\n",
       "      <td>HB_HOUSTON</td>\n",
       "      <td>Off-peak</td>\n",
       "      <td>01/01/2024</td>\n",
       "      <td>03/31/2024</td>\n",
       "      <td>1.742868</td>\n",
       "      <td>2024-01-01</td>\n",
       "      <td>3</td>\n",
       "      <td>2024.1st6.AnnualAuction.Seq3</td>\n",
       "      <td>0.070303</td>\n",
       "      <td>2022-12-13</td>\n",
       "      <td>8769.6</td>\n",
       "      <td>0.143732</td>\n",
       "    </tr>\n",
       "    <tr>\n",
       "      <th>2</th>\n",
       "      <td>CBECII_89</td>\n",
       "      <td>HB_HOUSTON</td>\n",
       "      <td>Off-peak</td>\n",
       "      <td>01/01/2024</td>\n",
       "      <td>03/31/2024</td>\n",
       "      <td>2.030000</td>\n",
       "      <td>2024-01-01</td>\n",
       "      <td>3</td>\n",
       "      <td>2024.1st6.AnnualAuction.Seq4</td>\n",
       "      <td>0.070303</td>\n",
       "      <td>2022-07-19</td>\n",
       "      <td>6264.0</td>\n",
       "      <td>0.143732</td>\n",
       "    </tr>\n",
       "    <tr>\n",
       "      <th>3</th>\n",
       "      <td>CBECII_89</td>\n",
       "      <td>HB_HOUSTON</td>\n",
       "      <td>Off-peak</td>\n",
       "      <td>04/01/2024</td>\n",
       "      <td>06/30/2024</td>\n",
       "      <td>1.029079</td>\n",
       "      <td>2024-04-01</td>\n",
       "      <td>3</td>\n",
       "      <td>2024.1st6.AnnualAuction.Seq2</td>\n",
       "      <td>0.069257</td>\n",
       "      <td>2023-05-16</td>\n",
       "      <td>6348.0</td>\n",
       "      <td>-0.367913</td>\n",
       "    </tr>\n",
       "    <tr>\n",
       "      <th>4</th>\n",
       "      <td>CBECII_89</td>\n",
       "      <td>HB_HOUSTON</td>\n",
       "      <td>Off-peak</td>\n",
       "      <td>04/01/2024</td>\n",
       "      <td>06/30/2024</td>\n",
       "      <td>2.220000</td>\n",
       "      <td>2024-04-01</td>\n",
       "      <td>3</td>\n",
       "      <td>2024.1st6.AnnualAuction.Seq4</td>\n",
       "      <td>0.069257</td>\n",
       "      <td>2022-07-19</td>\n",
       "      <td>8887.2</td>\n",
       "      <td>-0.367913</td>\n",
       "    </tr>\n",
       "  </tbody>\n",
       "</table>\n",
       "</div>"
      ],
      "text/plain": [
       "      Source        Sink TimeOfUse   StartDate     EndDate  ShadowPricePerMWH  \\\n",
       "0  CBECII_89  HB_HOUSTON  Off-peak  01/01/2024  03/31/2024           1.024268   \n",
       "1  CBECII_89  HB_HOUSTON  Off-peak  01/01/2024  03/31/2024           1.742868   \n",
       "2  CBECII_89  HB_HOUSTON  Off-peak  01/01/2024  03/31/2024           2.030000   \n",
       "3  CBECII_89  HB_HOUSTON  Off-peak  04/01/2024  06/30/2024           1.029079   \n",
       "4  CBECII_89  HB_HOUSTON  Off-peak  04/01/2024  06/30/2024           2.220000   \n",
       "\n",
       "         date  duration                  auction_info     score auction_date  \\\n",
       "0  2024-01-01         3  2024.1st6.AnnualAuction.Seq2  0.070303   2023-05-16   \n",
       "1  2024-01-01         3  2024.1st6.AnnualAuction.Seq3  0.070303   2022-12-13   \n",
       "2  2024-01-01         3  2024.1st6.AnnualAuction.Seq4  0.070303   2022-07-19   \n",
       "3  2024-04-01         3  2024.1st6.AnnualAuction.Seq2  0.069257   2023-05-16   \n",
       "4  2024-04-01         3  2024.1st6.AnnualAuction.Seq4  0.069257   2022-07-19   \n",
       "\n",
       "    agg_MW  CRRPerMWH  \n",
       "0  12528.0   0.143732  \n",
       "1   8769.6   0.143732  \n",
       "2   6264.0   0.143732  \n",
       "3   6348.0  -0.367913  \n",
       "4   8887.2  -0.367913  "
      ]
     },
     "execution_count": 5,
     "metadata": {},
     "output_type": "execute_result"
    }
   ],
   "source": [
    "top_df.head()"
   ]
  },
  {
   "cell_type": "code",
   "execution_count": 5,
   "metadata": {},
   "outputs": [
    {
     "data": {
      "text/plain": [
       "<Axes: >"
      ]
     },
     "execution_count": 5,
     "metadata": {},
     "output_type": "execute_result"
    },
    {
     "data": {
      "image/png": "[encoded data removed]",
      "text/plain": [
       "<Figure size 640x480 with 1 Axes>"
      ]
     },
     "metadata": {},
     "output_type": "display_data"
    }
   ],
   "source": [
    "top_df.ShadowPricePerMWH.hist(bins=100)"
   ]
  },
  {
   "cell_type": "code",
   "execution_count": 6,
   "metadata": {},
   "outputs": [],
   "source": [
    "# top_df = top_df[top_df['ShadowPricePerMWH']>0]"
   ]
  },
  {
   "cell_type": "code",
   "execution_count": 6,
   "metadata": {},
   "outputs": [
    {
     "data": {
      "text/html": [
       "<div>\n",
       "<style scoped>\n",
       "    .dataframe tbody tr th:only-of-type {\n",
       "        vertical-align: middle;\n",
       "    }\n",
       "\n",
       "    .dataframe tbody tr th {\n",
       "        vertical-align: top;\n",
       "    }\n",
       "\n",
       "    .dataframe thead th {\n",
       "        text-align: right;\n",
       "    }\n",
       "</style>\n",
       "<table border=\"1\" class=\"dataframe\">\n",
       "  <thead>\n",
       "    <tr style=\"text-align: right;\">\n",
       "      <th></th>\n",
       "      <th>Source</th>\n",
       "      <th>Sink</th>\n",
       "      <th>TimeOfUse</th>\n",
       "      <th>StartDate</th>\n",
       "      <th>EndDate</th>\n",
       "      <th>ShadowPricePerMWH</th>\n",
       "      <th>date</th>\n",
       "      <th>duration</th>\n",
       "      <th>auction_info</th>\n",
       "      <th>score</th>\n",
       "      <th>auction_date</th>\n",
       "      <th>agg_MW</th>\n",
       "      <th>CRRPerMWH</th>\n",
       "    </tr>\n",
       "  </thead>\n",
       "  <tbody>\n",
       "    <tr>\n",
       "      <th>0</th>\n",
       "      <td>CBECII_89</td>\n",
       "      <td>HB_HOUSTON</td>\n",
       "      <td>Off-peak</td>\n",
       "      <td>01/01/2024</td>\n",
       "      <td>03/31/2024</td>\n",
       "      <td>1.024268</td>\n",
       "      <td>2024-01-01</td>\n",
       "      <td>3</td>\n",
       "      <td>2024.1st6.AnnualAuction.Seq2</td>\n",
       "      <td>0.070303</td>\n",
       "      <td>2023-05-16</td>\n",
       "      <td>12528.0</td>\n",
       "      <td>0.143732</td>\n",
       "    </tr>\n",
       "    <tr>\n",
       "      <th>1</th>\n",
       "      <td>CBECII_89</td>\n",
       "      <td>HB_HOUSTON</td>\n",
       "      <td>Off-peak</td>\n",
       "      <td>01/01/2024</td>\n",
       "      <td>03/31/2024</td>\n",
       "      <td>1.742868</td>\n",
       "      <td>2024-01-01</td>\n",
       "      <td>3</td>\n",
       "      <td>2024.1st6.AnnualAuction.Seq3</td>\n",
       "      <td>0.070303</td>\n",
       "      <td>2022-12-13</td>\n",
       "      <td>8769.6</td>\n",
       "      <td>0.143732</td>\n",
       "    </tr>\n",
       "    <tr>\n",
       "      <th>2</th>\n",
       "      <td>CBECII_89</td>\n",
       "      <td>HB_HOUSTON</td>\n",
       "      <td>Off-peak</td>\n",
       "      <td>01/01/2024</td>\n",
       "      <td>03/31/2024</td>\n",
       "      <td>2.030000</td>\n",
       "      <td>2024-01-01</td>\n",
       "      <td>3</td>\n",
       "      <td>2024.1st6.AnnualAuction.Seq4</td>\n",
       "      <td>0.070303</td>\n",
       "      <td>2022-07-19</td>\n",
       "      <td>6264.0</td>\n",
       "      <td>0.143732</td>\n",
       "    </tr>\n",
       "    <tr>\n",
       "      <th>3</th>\n",
       "      <td>CBECII_89</td>\n",
       "      <td>HB_HOUSTON</td>\n",
       "      <td>Off-peak</td>\n",
       "      <td>04/01/2024</td>\n",
       "      <td>06/30/2024</td>\n",
       "      <td>1.029079</td>\n",
       "      <td>2024-04-01</td>\n",
       "      <td>3</td>\n",
       "      <td>2024.1st6.AnnualAuction.Seq2</td>\n",
       "      <td>0.069257</td>\n",
       "      <td>2023-05-16</td>\n",
       "      <td>6348.0</td>\n",
       "      <td>-0.367913</td>\n",
       "    </tr>\n",
       "    <tr>\n",
       "      <th>4</th>\n",
       "      <td>CBECII_89</td>\n",
       "      <td>HB_HOUSTON</td>\n",
       "      <td>Off-peak</td>\n",
       "      <td>04/01/2024</td>\n",
       "      <td>06/30/2024</td>\n",
       "      <td>2.220000</td>\n",
       "      <td>2024-04-01</td>\n",
       "      <td>3</td>\n",
       "      <td>2024.1st6.AnnualAuction.Seq4</td>\n",
       "      <td>0.069257</td>\n",
       "      <td>2022-07-19</td>\n",
       "      <td>8887.2</td>\n",
       "      <td>-0.367913</td>\n",
       "    </tr>\n",
       "    <tr>\n",
       "      <th>...</th>\n",
       "      <td>...</td>\n",
       "      <td>...</td>\n",
       "      <td>...</td>\n",
       "      <td>...</td>\n",
       "      <td>...</td>\n",
       "      <td>...</td>\n",
       "      <td>...</td>\n",
       "      <td>...</td>\n",
       "      <td>...</td>\n",
       "      <td>...</td>\n",
       "      <td>...</td>\n",
       "      <td>...</td>\n",
       "      <td>...</td>\n",
       "    </tr>\n",
       "    <tr>\n",
       "      <th>2929</th>\n",
       "      <td>WILDWIND_ALL</td>\n",
       "      <td>HB_NORTH</td>\n",
       "      <td>PeakWD</td>\n",
       "      <td>01/01/2024</td>\n",
       "      <td>06/30/2024</td>\n",
       "      <td>1.604288</td>\n",
       "      <td>2024-01-01</td>\n",
       "      <td>6</td>\n",
       "      <td>2024.1st6.AnnualAuction.Seq4</td>\n",
       "      <td>0.051932</td>\n",
       "      <td>2022-07-19</td>\n",
       "      <td>663.6</td>\n",
       "      <td>0.163624</td>\n",
       "    </tr>\n",
       "    <tr>\n",
       "      <th>2930</th>\n",
       "      <td>WILDWIND_ALL</td>\n",
       "      <td>HB_NORTH</td>\n",
       "      <td>PeakWE</td>\n",
       "      <td>01/01/2024</td>\n",
       "      <td>06/30/2024</td>\n",
       "      <td>0.431107</td>\n",
       "      <td>2024-01-01</td>\n",
       "      <td>6</td>\n",
       "      <td>2024.1st6.AnnualAuction.Seq1</td>\n",
       "      <td>0.056962</td>\n",
       "      <td>2023-10-17</td>\n",
       "      <td>6918.0</td>\n",
       "      <td>0.024664</td>\n",
       "    </tr>\n",
       "    <tr>\n",
       "      <th>2931</th>\n",
       "      <td>WILDWIND_ALL</td>\n",
       "      <td>HB_NORTH</td>\n",
       "      <td>PeakWE</td>\n",
       "      <td>01/01/2024</td>\n",
       "      <td>06/30/2024</td>\n",
       "      <td>0.503060</td>\n",
       "      <td>2024-01-01</td>\n",
       "      <td>6</td>\n",
       "      <td>2024.1st6.AnnualAuction.Seq2</td>\n",
       "      <td>0.056962</td>\n",
       "      <td>2023-05-16</td>\n",
       "      <td>18678.6</td>\n",
       "      <td>0.024664</td>\n",
       "    </tr>\n",
       "    <tr>\n",
       "      <th>2932</th>\n",
       "      <td>WILDWIND_ALL</td>\n",
       "      <td>HB_NORTH</td>\n",
       "      <td>PeakWE</td>\n",
       "      <td>01/01/2024</td>\n",
       "      <td>06/30/2024</td>\n",
       "      <td>0.516174</td>\n",
       "      <td>2024-01-01</td>\n",
       "      <td>6</td>\n",
       "      <td>2024.1st6.AnnualAuction.Seq3</td>\n",
       "      <td>0.056962</td>\n",
       "      <td>2022-12-13</td>\n",
       "      <td>9685.2</td>\n",
       "      <td>0.024664</td>\n",
       "    </tr>\n",
       "    <tr>\n",
       "      <th>2933</th>\n",
       "      <td>WILDWIND_ALL</td>\n",
       "      <td>HB_NORTH</td>\n",
       "      <td>PeakWE</td>\n",
       "      <td>01/01/2024</td>\n",
       "      <td>06/30/2024</td>\n",
       "      <td>1.150717</td>\n",
       "      <td>2024-01-01</td>\n",
       "      <td>6</td>\n",
       "      <td>2024.1st6.AnnualAuction.Seq5</td>\n",
       "      <td>0.056962</td>\n",
       "      <td>2022-02-15</td>\n",
       "      <td>44967.0</td>\n",
       "      <td>0.024664</td>\n",
       "    </tr>\n",
       "  </tbody>\n",
       "</table>\n",
       "<p>2934 rows × 13 columns</p>\n",
       "</div>"
      ],
      "text/plain": [
       "            Source        Sink TimeOfUse   StartDate     EndDate  \\\n",
       "0        CBECII_89  HB_HOUSTON  Off-peak  01/01/2024  03/31/2024   \n",
       "1        CBECII_89  HB_HOUSTON  Off-peak  01/01/2024  03/31/2024   \n",
       "2        CBECII_89  HB_HOUSTON  Off-peak  01/01/2024  03/31/2024   \n",
       "3        CBECII_89  HB_HOUSTON  Off-peak  04/01/2024  06/30/2024   \n",
       "4        CBECII_89  HB_HOUSTON  Off-peak  04/01/2024  06/30/2024   \n",
       "...            ...         ...       ...         ...         ...   \n",
       "2929  WILDWIND_ALL    HB_NORTH    PeakWD  01/01/2024  06/30/2024   \n",
       "2930  WILDWIND_ALL    HB_NORTH    PeakWE  01/01/2024  06/30/2024   \n",
       "2931  WILDWIND_ALL    HB_NORTH    PeakWE  01/01/2024  06/30/2024   \n",
       "2932  WILDWIND_ALL    HB_NORTH    PeakWE  01/01/2024  06/30/2024   \n",
       "2933  WILDWIND_ALL    HB_NORTH    PeakWE  01/01/2024  06/30/2024   \n",
       "\n",
       "      ShadowPricePerMWH        date  duration                  auction_info  \\\n",
       "0              1.024268  2024-01-01         3  2024.1st6.AnnualAuction.Seq2   \n",
       "1              1.742868  2024-01-01         3  2024.1st6.AnnualAuction.Seq3   \n",
       "2              2.030000  2024-01-01         3  2024.1st6.AnnualAuction.Seq4   \n",
       "3              1.029079  2024-04-01         3  2024.1st6.AnnualAuction.Seq2   \n",
       "4              2.220000  2024-04-01         3  2024.1st6.AnnualAuction.Seq4   \n",
       "...                 ...         ...       ...                           ...   \n",
       "2929           1.604288  2024-01-01         6  2024.1st6.AnnualAuction.Seq4   \n",
       "2930           0.431107  2024-01-01         6  2024.1st6.AnnualAuction.Seq1   \n",
       "2931           0.503060  2024-01-01         6  2024.1st6.AnnualAuction.Seq2   \n",
       "2932           0.516174  2024-01-01         6  2024.1st6.AnnualAuction.Seq3   \n",
       "2933           1.150717  2024-01-01         6  2024.1st6.AnnualAuction.Seq5   \n",
       "\n",
       "         score auction_date   agg_MW  CRRPerMWH  \n",
       "0     0.070303   2023-05-16  12528.0   0.143732  \n",
       "1     0.070303   2022-12-13   8769.6   0.143732  \n",
       "2     0.070303   2022-07-19   6264.0   0.143732  \n",
       "3     0.069257   2023-05-16   6348.0  -0.367913  \n",
       "4     0.069257   2022-07-19   8887.2  -0.367913  \n",
       "...        ...          ...      ...        ...  \n",
       "2929  0.051932   2022-07-19    663.6   0.163624  \n",
       "2930  0.056962   2023-10-17   6918.0   0.024664  \n",
       "2931  0.056962   2023-05-16  18678.6   0.024664  \n",
       "2932  0.056962   2022-12-13   9685.2   0.024664  \n",
       "2933  0.056962   2022-02-15  44967.0   0.024664  \n",
       "\n",
       "[2934 rows x 13 columns]"
      ]
     },
     "execution_count": 6,
     "metadata": {},
     "output_type": "execute_result"
    }
   ],
   "source": [
    "top_df"
   ]
  },
  {
   "cell_type": "code",
   "execution_count": 10,
   "metadata": {},
   "outputs": [
    {
     "data": {
      "text/html": [
       "<div>\n",
       "<style scoped>\n",
       "    .dataframe tbody tr th:only-of-type {\n",
       "        vertical-align: middle;\n",
       "    }\n",
       "\n",
       "    .dataframe tbody tr th {\n",
       "        vertical-align: top;\n",
       "    }\n",
       "\n",
       "    .dataframe thead th {\n",
       "        text-align: right;\n",
       "    }\n",
       "</style>\n",
       "<table border=\"1\" class=\"dataframe\">\n",
       "  <thead>\n",
       "    <tr style=\"text-align: right;\">\n",
       "      <th></th>\n",
       "      <th>Source</th>\n",
       "      <th>Sink</th>\n",
       "      <th>TimeOfUse</th>\n",
       "      <th>StartDate</th>\n",
       "      <th>EndDate</th>\n",
       "      <th>ShadowPricePerMWH</th>\n",
       "      <th>date</th>\n",
       "      <th>duration</th>\n",
       "      <th>auction_info</th>\n",
       "      <th>score</th>\n",
       "      <th>auction_date</th>\n",
       "      <th>agg_MW</th>\n",
       "      <th>CRRPerMWH</th>\n",
       "    </tr>\n",
       "  </thead>\n",
       "  <tbody>\n",
       "    <tr>\n",
       "      <th>0</th>\n",
       "      <td>CBECII_89</td>\n",
       "      <td>HB_HOUSTON</td>\n",
       "      <td>Off-peak</td>\n",
       "      <td>01/01/2024</td>\n",
       "      <td>03/31/2024</td>\n",
       "      <td>1.024268</td>\n",
       "      <td>2024-01-01</td>\n",
       "      <td>3</td>\n",
       "      <td>2024.1st6.AnnualAuction.Seq2</td>\n",
       "      <td>0.070303</td>\n",
       "      <td>2023-05-16</td>\n",
       "      <td>12528.0</td>\n",
       "      <td>0.143732</td>\n",
       "    </tr>\n",
       "    <tr>\n",
       "      <th>1</th>\n",
       "      <td>CBECII_89</td>\n",
       "      <td>HB_HOUSTON</td>\n",
       "      <td>Off-peak</td>\n",
       "      <td>01/01/2024</td>\n",
       "      <td>03/31/2024</td>\n",
       "      <td>1.742868</td>\n",
       "      <td>2024-01-01</td>\n",
       "      <td>3</td>\n",
       "      <td>2024.1st6.AnnualAuction.Seq3</td>\n",
       "      <td>0.070303</td>\n",
       "      <td>2022-12-13</td>\n",
       "      <td>8769.6</td>\n",
       "      <td>0.143732</td>\n",
       "    </tr>\n",
       "    <tr>\n",
       "      <th>2</th>\n",
       "      <td>CBECII_89</td>\n",
       "      <td>HB_HOUSTON</td>\n",
       "      <td>Off-peak</td>\n",
       "      <td>01/01/2024</td>\n",
       "      <td>03/31/2024</td>\n",
       "      <td>2.030000</td>\n",
       "      <td>2024-01-01</td>\n",
       "      <td>3</td>\n",
       "      <td>2024.1st6.AnnualAuction.Seq4</td>\n",
       "      <td>0.070303</td>\n",
       "      <td>2022-07-19</td>\n",
       "      <td>6264.0</td>\n",
       "      <td>0.143732</td>\n",
       "    </tr>\n",
       "    <tr>\n",
       "      <th>3</th>\n",
       "      <td>CBECII_89</td>\n",
       "      <td>HB_HOUSTON</td>\n",
       "      <td>Off-peak</td>\n",
       "      <td>04/01/2024</td>\n",
       "      <td>06/30/2024</td>\n",
       "      <td>1.029079</td>\n",
       "      <td>2024-04-01</td>\n",
       "      <td>3</td>\n",
       "      <td>2024.1st6.AnnualAuction.Seq2</td>\n",
       "      <td>0.069257</td>\n",
       "      <td>2023-05-16</td>\n",
       "      <td>6348.0</td>\n",
       "      <td>-0.367913</td>\n",
       "    </tr>\n",
       "    <tr>\n",
       "      <th>4</th>\n",
       "      <td>CBECII_89</td>\n",
       "      <td>HB_HOUSTON</td>\n",
       "      <td>Off-peak</td>\n",
       "      <td>04/01/2024</td>\n",
       "      <td>06/30/2024</td>\n",
       "      <td>2.220000</td>\n",
       "      <td>2024-04-01</td>\n",
       "      <td>3</td>\n",
       "      <td>2024.1st6.AnnualAuction.Seq4</td>\n",
       "      <td>0.069257</td>\n",
       "      <td>2022-07-19</td>\n",
       "      <td>8887.2</td>\n",
       "      <td>-0.367913</td>\n",
       "    </tr>\n",
       "    <tr>\n",
       "      <th>5</th>\n",
       "      <td>CBECII_89</td>\n",
       "      <td>HB_HOUSTON</td>\n",
       "      <td>Off-peak</td>\n",
       "      <td>04/01/2024</td>\n",
       "      <td>06/30/2024</td>\n",
       "      <td>2.620000</td>\n",
       "      <td>2024-04-01</td>\n",
       "      <td>3</td>\n",
       "      <td>2024.1st6.AnnualAuction.Seq3</td>\n",
       "      <td>0.069257</td>\n",
       "      <td>2022-12-13</td>\n",
       "      <td>8887.2</td>\n",
       "      <td>-0.367913</td>\n",
       "    </tr>\n",
       "    <tr>\n",
       "      <th>6</th>\n",
       "      <td>CBECII_89</td>\n",
       "      <td>HB_HOUSTON</td>\n",
       "      <td>PeakWD</td>\n",
       "      <td>01/01/2024</td>\n",
       "      <td>03/31/2024</td>\n",
       "      <td>2.730000</td>\n",
       "      <td>2024-01-01</td>\n",
       "      <td>3</td>\n",
       "      <td>2024.1st6.AnnualAuction.Seq5</td>\n",
       "      <td>0.077718</td>\n",
       "      <td>2022-02-15</td>\n",
       "      <td>2665.2</td>\n",
       "      <td>0.420839</td>\n",
       "    </tr>\n",
       "    <tr>\n",
       "      <th>7</th>\n",
       "      <td>CBECII_89</td>\n",
       "      <td>HB_HOUSTON</td>\n",
       "      <td>PeakWD</td>\n",
       "      <td>01/01/2024</td>\n",
       "      <td>03/31/2024</td>\n",
       "      <td>3.848217</td>\n",
       "      <td>2024-01-01</td>\n",
       "      <td>3</td>\n",
       "      <td>2024.1st6.AnnualAuction.Seq4</td>\n",
       "      <td>0.077718</td>\n",
       "      <td>2022-07-19</td>\n",
       "      <td>3997.8</td>\n",
       "      <td>0.420839</td>\n",
       "    </tr>\n",
       "    <tr>\n",
       "      <th>8</th>\n",
       "      <td>CBECII_89</td>\n",
       "      <td>HB_HOUSTON</td>\n",
       "      <td>PeakWD</td>\n",
       "      <td>01/01/2024</td>\n",
       "      <td>03/31/2024</td>\n",
       "      <td>4.626262</td>\n",
       "      <td>2024-01-01</td>\n",
       "      <td>3</td>\n",
       "      <td>2024.1st6.AnnualAuction.Seq2</td>\n",
       "      <td>0.077718</td>\n",
       "      <td>2023-05-16</td>\n",
       "      <td>13326.0</td>\n",
       "      <td>0.420839</td>\n",
       "    </tr>\n",
       "    <tr>\n",
       "      <th>9</th>\n",
       "      <td>CBECII_89</td>\n",
       "      <td>HB_HOUSTON</td>\n",
       "      <td>PeakWD</td>\n",
       "      <td>01/01/2024</td>\n",
       "      <td>03/31/2024</td>\n",
       "      <td>5.200000</td>\n",
       "      <td>2024-01-01</td>\n",
       "      <td>3</td>\n",
       "      <td>2024.1st6.AnnualAuction.Seq3</td>\n",
       "      <td>0.077718</td>\n",
       "      <td>2022-12-13</td>\n",
       "      <td>21321.6</td>\n",
       "      <td>0.420839</td>\n",
       "    </tr>\n",
       "    <tr>\n",
       "      <th>10</th>\n",
       "      <td>CBECII_89</td>\n",
       "      <td>HB_HOUSTON</td>\n",
       "      <td>PeakWD</td>\n",
       "      <td>04/01/2024</td>\n",
       "      <td>06/30/2024</td>\n",
       "      <td>3.457295</td>\n",
       "      <td>2024-04-01</td>\n",
       "      <td>3</td>\n",
       "      <td>2024.1st6.AnnualAuction.Seq5</td>\n",
       "      <td>0.056019</td>\n",
       "      <td>2022-02-15</td>\n",
       "      <td>1657.8</td>\n",
       "      <td>0.057956</td>\n",
       "    </tr>\n",
       "    <tr>\n",
       "      <th>11</th>\n",
       "      <td>CBECII_89</td>\n",
       "      <td>HB_HOUSTON</td>\n",
       "      <td>PeakWD</td>\n",
       "      <td>04/01/2024</td>\n",
       "      <td>06/30/2024</td>\n",
       "      <td>5.478264</td>\n",
       "      <td>2024-04-01</td>\n",
       "      <td>3</td>\n",
       "      <td>2024.1st6.AnnualAuction.Seq2</td>\n",
       "      <td>0.056019</td>\n",
       "      <td>2023-05-16</td>\n",
       "      <td>8289.0</td>\n",
       "      <td>0.057956</td>\n",
       "    </tr>\n",
       "    <tr>\n",
       "      <th>12</th>\n",
       "      <td>CBECII_89</td>\n",
       "      <td>HB_HOUSTON</td>\n",
       "      <td>PeakWD</td>\n",
       "      <td>04/01/2024</td>\n",
       "      <td>06/30/2024</td>\n",
       "      <td>5.750000</td>\n",
       "      <td>2024-04-01</td>\n",
       "      <td>3</td>\n",
       "      <td>2024.1st6.AnnualAuction.Seq4</td>\n",
       "      <td>0.056019</td>\n",
       "      <td>2022-07-19</td>\n",
       "      <td>1657.8</td>\n",
       "      <td>0.057956</td>\n",
       "    </tr>\n",
       "    <tr>\n",
       "      <th>13</th>\n",
       "      <td>CBECII_89</td>\n",
       "      <td>HB_HOUSTON</td>\n",
       "      <td>PeakWD</td>\n",
       "      <td>04/01/2024</td>\n",
       "      <td>06/30/2024</td>\n",
       "      <td>6.720000</td>\n",
       "      <td>2024-04-01</td>\n",
       "      <td>3</td>\n",
       "      <td>2024.1st6.AnnualAuction.Seq3</td>\n",
       "      <td>0.056019</td>\n",
       "      <td>2022-12-13</td>\n",
       "      <td>4973.4</td>\n",
       "      <td>0.057956</td>\n",
       "    </tr>\n",
       "    <tr>\n",
       "      <th>14</th>\n",
       "      <td>CBECII_89</td>\n",
       "      <td>HB_HOUSTON</td>\n",
       "      <td>PeakWE</td>\n",
       "      <td>01/01/2024</td>\n",
       "      <td>03/31/2024</td>\n",
       "      <td>2.488007</td>\n",
       "      <td>2024-01-01</td>\n",
       "      <td>3</td>\n",
       "      <td>2024.1st6.AnnualAuction.Seq5</td>\n",
       "      <td>0.073299</td>\n",
       "      <td>2022-02-15</td>\n",
       "      <td>2537.4</td>\n",
       "      <td>0.276628</td>\n",
       "    </tr>\n",
       "    <tr>\n",
       "      <th>15</th>\n",
       "      <td>CBECII_89</td>\n",
       "      <td>HB_HOUSTON</td>\n",
       "      <td>PeakWE</td>\n",
       "      <td>01/01/2024</td>\n",
       "      <td>03/31/2024</td>\n",
       "      <td>3.410000</td>\n",
       "      <td>2024-01-01</td>\n",
       "      <td>3</td>\n",
       "      <td>2024.1st6.AnnualAuction.Seq4</td>\n",
       "      <td>0.073299</td>\n",
       "      <td>2022-07-19</td>\n",
       "      <td>2537.4</td>\n",
       "      <td>0.276628</td>\n",
       "    </tr>\n",
       "    <tr>\n",
       "      <th>16</th>\n",
       "      <td>CBECII_89</td>\n",
       "      <td>HB_HOUSTON</td>\n",
       "      <td>PeakWE</td>\n",
       "      <td>01/01/2024</td>\n",
       "      <td>03/31/2024</td>\n",
       "      <td>3.613817</td>\n",
       "      <td>2024-01-01</td>\n",
       "      <td>3</td>\n",
       "      <td>2024.1st6.AnnualAuction.Seq2</td>\n",
       "      <td>0.073299</td>\n",
       "      <td>2023-05-16</td>\n",
       "      <td>19030.5</td>\n",
       "      <td>0.276628</td>\n",
       "    </tr>\n",
       "    <tr>\n",
       "      <th>17</th>\n",
       "      <td>CBECII_89</td>\n",
       "      <td>HB_HOUSTON</td>\n",
       "      <td>PeakWE</td>\n",
       "      <td>01/01/2024</td>\n",
       "      <td>03/31/2024</td>\n",
       "      <td>4.580000</td>\n",
       "      <td>2024-01-01</td>\n",
       "      <td>3</td>\n",
       "      <td>2024.1st6.AnnualAuction.Seq3</td>\n",
       "      <td>0.073299</td>\n",
       "      <td>2022-12-13</td>\n",
       "      <td>21567.9</td>\n",
       "      <td>0.276628</td>\n",
       "    </tr>\n",
       "  </tbody>\n",
       "</table>\n",
       "</div>"
      ],
      "text/plain": [
       "       Source        Sink TimeOfUse   StartDate     EndDate  \\\n",
       "0   CBECII_89  HB_HOUSTON  Off-peak  01/01/2024  03/31/2024   \n",
       "1   CBECII_89  HB_HOUSTON  Off-peak  01/01/2024  03/31/2024   \n",
       "2   CBECII_89  HB_HOUSTON  Off-peak  01/01/2024  03/31/2024   \n",
       "3   CBECII_89  HB_HOUSTON  Off-peak  04/01/2024  06/30/2024   \n",
       "4   CBECII_89  HB_HOUSTON  Off-peak  04/01/2024  06/30/2024   \n",
       "5   CBECII_89  HB_HOUSTON  Off-peak  04/01/2024  06/30/2024   \n",
       "6   CBECII_89  HB_HOUSTON    PeakWD  01/01/2024  03/31/2024   \n",
       "7   CBECII_89  HB_HOUSTON    PeakWD  01/01/2024  03/31/2024   \n",
       "8   CBECII_89  HB_HOUSTON    PeakWD  01/01/2024  03/31/2024   \n",
       "9   CBECII_89  HB_HOUSTON    PeakWD  01/01/2024  03/31/2024   \n",
       "10  CBECII_89  HB_HOUSTON    PeakWD  04/01/2024  06/30/2024   \n",
       "11  CBECII_89  HB_HOUSTON    PeakWD  04/01/2024  06/30/2024   \n",
       "12  CBECII_89  HB_HOUSTON    PeakWD  04/01/2024  06/30/2024   \n",
       "13  CBECII_89  HB_HOUSTON    PeakWD  04/01/2024  06/30/2024   \n",
       "14  CBECII_89  HB_HOUSTON    PeakWE  01/01/2024  03/31/2024   \n",
       "15  CBECII_89  HB_HOUSTON    PeakWE  01/01/2024  03/31/2024   \n",
       "16  CBECII_89  HB_HOUSTON    PeakWE  01/01/2024  03/31/2024   \n",
       "17  CBECII_89  HB_HOUSTON    PeakWE  01/01/2024  03/31/2024   \n",
       "\n",
       "    ShadowPricePerMWH        date  duration                  auction_info  \\\n",
       "0            1.024268  2024-01-01         3  2024.1st6.AnnualAuction.Seq2   \n",
       "1            1.742868  2024-01-01         3  2024.1st6.AnnualAuction.Seq3   \n",
       "2            2.030000  2024-01-01         3  2024.1st6.AnnualAuction.Seq4   \n",
       "3            1.029079  2024-04-01         3  2024.1st6.AnnualAuction.Seq2   \n",
       "4            2.220000  2024-04-01         3  2024.1st6.AnnualAuction.Seq4   \n",
       "5            2.620000  2024-04-01         3  2024.1st6.AnnualAuction.Seq3   \n",
       "6            2.730000  2024-01-01         3  2024.1st6.AnnualAuction.Seq5   \n",
       "7            3.848217  2024-01-01         3  2024.1st6.AnnualAuction.Seq4   \n",
       "8            4.626262  2024-01-01         3  2024.1st6.AnnualAuction.Seq2   \n",
       "9            5.200000  2024-01-01         3  2024.1st6.AnnualAuction.Seq3   \n",
       "10           3.457295  2024-04-01         3  2024.1st6.AnnualAuction.Seq5   \n",
       "11           5.478264  2024-04-01         3  2024.1st6.AnnualAuction.Seq2   \n",
       "12           5.750000  2024-04-01         3  2024.1st6.AnnualAuction.Seq4   \n",
       "13           6.720000  2024-04-01         3  2024.1st6.AnnualAuction.Seq3   \n",
       "14           2.488007  2024-01-01         3  2024.1st6.AnnualAuction.Seq5   \n",
       "15           3.410000  2024-01-01         3  2024.1st6.AnnualAuction.Seq4   \n",
       "16           3.613817  2024-01-01         3  2024.1st6.AnnualAuction.Seq2   \n",
       "17           4.580000  2024-01-01         3  2024.1st6.AnnualAuction.Seq3   \n",
       "\n",
       "       score auction_date   agg_MW  CRRPerMWH  \n",
       "0   0.070303   2023-05-16  12528.0   0.143732  \n",
       "1   0.070303   2022-12-13   8769.6   0.143732  \n",
       "2   0.070303   2022-07-19   6264.0   0.143732  \n",
       "3   0.069257   2023-05-16   6348.0  -0.367913  \n",
       "4   0.069257   2022-07-19   8887.2  -0.367913  \n",
       "5   0.069257   2022-12-13   8887.2  -0.367913  \n",
       "6   0.077718   2022-02-15   2665.2   0.420839  \n",
       "7   0.077718   2022-07-19   3997.8   0.420839  \n",
       "8   0.077718   2023-05-16  13326.0   0.420839  \n",
       "9   0.077718   2022-12-13  21321.6   0.420839  \n",
       "10  0.056019   2022-02-15   1657.8   0.057956  \n",
       "11  0.056019   2023-05-16   8289.0   0.057956  \n",
       "12  0.056019   2022-07-19   1657.8   0.057956  \n",
       "13  0.056019   2022-12-13   4973.4   0.057956  \n",
       "14  0.073299   2022-02-15   2537.4   0.276628  \n",
       "15  0.073299   2022-07-19   2537.4   0.276628  \n",
       "16  0.073299   2023-05-16  19030.5   0.276628  \n",
       "17  0.073299   2022-12-13  21567.9   0.276628  "
      ]
     },
     "execution_count": 10,
     "metadata": {},
     "output_type": "execute_result"
    }
   ],
   "source": [
    "top_df[(top_df.Source == 'CBECII_89')&(top_df.Sink == 'HB_HOUSTON')]"
   ]
  },
  {
   "cell_type": "code",
   "execution_count": 32,
   "metadata": {},
   "outputs": [],
   "source": [
    "top_df['StartDate'] = pd.to_datetime(top_df['StartDate'])\n",
    "top_df['EndDate'] = pd.to_datetime(top_df['EndDate'])\n",
    "top_df['auction_date'] = pd.to_datetime(top_df['auction_date'])\n",
    "tail_df['StartDate'] = pd.to_datetime(tail_df['StartDate'])\n",
    "tail_df['EndDate'] = pd.to_datetime(tail_df['EndDate'])\n",
    "tail_df['auction_date'] = pd.to_datetime(tail_df['auction_date'])"
   ]
  },
  {
   "cell_type": "code",
   "execution_count": 33,
   "metadata": {},
   "outputs": [
    {
     "data": {
      "text/html": [
       "<div>\n",
       "<style scoped>\n",
       "    .dataframe tbody tr th:only-of-type {\n",
       "        vertical-align: middle;\n",
       "    }\n",
       "\n",
       "    .dataframe tbody tr th {\n",
       "        vertical-align: top;\n",
       "    }\n",
       "\n",
       "    .dataframe thead th {\n",
       "        text-align: right;\n",
       "    }\n",
       "</style>\n",
       "<table border=\"1\" class=\"dataframe\">\n",
       "  <thead>\n",
       "    <tr style=\"text-align: right;\">\n",
       "      <th></th>\n",
       "      <th>DeliveryDate</th>\n",
       "      <th>HourEnding</th>\n",
       "      <th>SettlementPoint</th>\n",
       "      <th>SettlementPointPrice</th>\n",
       "      <th>DSTFlag</th>\n",
       "      <th>date</th>\n",
       "      <th>month</th>\n",
       "      <th>hour</th>\n",
       "    </tr>\n",
       "  </thead>\n",
       "  <tbody>\n",
       "    <tr>\n",
       "      <th>10057639</th>\n",
       "      <td>01/02/2021</td>\n",
       "      <td>01:00</td>\n",
       "      <td>AEEC</td>\n",
       "      <td>22.00</td>\n",
       "      <td>N</td>\n",
       "      <td>2021-01-02</td>\n",
       "      <td>2021-01-01</td>\n",
       "      <td>1</td>\n",
       "    </tr>\n",
       "    <tr>\n",
       "      <th>10057640</th>\n",
       "      <td>01/02/2021</td>\n",
       "      <td>01:00</td>\n",
       "      <td>ALVIN_RN</td>\n",
       "      <td>22.08</td>\n",
       "      <td>N</td>\n",
       "      <td>2021-01-02</td>\n",
       "      <td>2021-01-01</td>\n",
       "      <td>1</td>\n",
       "    </tr>\n",
       "    <tr>\n",
       "      <th>10057641</th>\n",
       "      <td>01/02/2021</td>\n",
       "      <td>01:00</td>\n",
       "      <td>AMADEUS_ALL</td>\n",
       "      <td>22.01</td>\n",
       "      <td>N</td>\n",
       "      <td>2021-01-02</td>\n",
       "      <td>2021-01-01</td>\n",
       "      <td>1</td>\n",
       "    </tr>\n",
       "    <tr>\n",
       "      <th>10057642</th>\n",
       "      <td>01/02/2021</td>\n",
       "      <td>01:00</td>\n",
       "      <td>AMISTAD_ALL</td>\n",
       "      <td>22.57</td>\n",
       "      <td>N</td>\n",
       "      <td>2021-01-02</td>\n",
       "      <td>2021-01-01</td>\n",
       "      <td>1</td>\n",
       "    </tr>\n",
       "    <tr>\n",
       "      <th>10057643</th>\n",
       "      <td>01/02/2021</td>\n",
       "      <td>01:00</td>\n",
       "      <td>AMOCOOIL_CC1</td>\n",
       "      <td>22.08</td>\n",
       "      <td>N</td>\n",
       "      <td>2021-01-02</td>\n",
       "      <td>2021-01-01</td>\n",
       "      <td>1</td>\n",
       "    </tr>\n",
       "    <tr>\n",
       "      <th>...</th>\n",
       "      <td>...</td>\n",
       "      <td>...</td>\n",
       "      <td>...</td>\n",
       "      <td>...</td>\n",
       "      <td>...</td>\n",
       "      <td>...</td>\n",
       "      <td>...</td>\n",
       "      <td>...</td>\n",
       "    </tr>\n",
       "    <tr>\n",
       "      <th>16018108</th>\n",
       "      <td>10/31/2024</td>\n",
       "      <td>24:00</td>\n",
       "      <td>W_HRL_ESR_RN</td>\n",
       "      <td>23.30</td>\n",
       "      <td>N</td>\n",
       "      <td>2024-10-31</td>\n",
       "      <td>2024-10-01</td>\n",
       "      <td>24</td>\n",
       "    </tr>\n",
       "    <tr>\n",
       "      <th>16018109</th>\n",
       "      <td>10/31/2024</td>\n",
       "      <td>24:00</td>\n",
       "      <td>W_PECO_UNIT1</td>\n",
       "      <td>94.61</td>\n",
       "      <td>N</td>\n",
       "      <td>2024-10-31</td>\n",
       "      <td>2024-10-01</td>\n",
       "      <td>24</td>\n",
       "    </tr>\n",
       "    <tr>\n",
       "      <th>16018110</th>\n",
       "      <td>10/31/2024</td>\n",
       "      <td>24:00</td>\n",
       "      <td>X443ESRN</td>\n",
       "      <td>24.20</td>\n",
       "      <td>N</td>\n",
       "      <td>2024-10-31</td>\n",
       "      <td>2024-10-01</td>\n",
       "      <td>24</td>\n",
       "    </tr>\n",
       "    <tr>\n",
       "      <th>16018111</th>\n",
       "      <td>10/31/2024</td>\n",
       "      <td>24:00</td>\n",
       "      <td>YNG_WND_ALL</td>\n",
       "      <td>12.29</td>\n",
       "      <td>N</td>\n",
       "      <td>2024-10-31</td>\n",
       "      <td>2024-10-01</td>\n",
       "      <td>24</td>\n",
       "    </tr>\n",
       "    <tr>\n",
       "      <th>16018112</th>\n",
       "      <td>10/31/2024</td>\n",
       "      <td>24:00</td>\n",
       "      <td>ZIER_SLR_ALL</td>\n",
       "      <td>32.68</td>\n",
       "      <td>N</td>\n",
       "      <td>2024-10-31</td>\n",
       "      <td>2024-10-01</td>\n",
       "      <td>24</td>\n",
       "    </tr>\n",
       "  </tbody>\n",
       "</table>\n",
       "<p>27425460 rows × 8 columns</p>\n",
       "</div>"
      ],
      "text/plain": [
       "         DeliveryDate HourEnding SettlementPoint  SettlementPointPrice  \\\n",
       "10057639   01/02/2021      01:00            AEEC                 22.00   \n",
       "10057640   01/02/2021      01:00        ALVIN_RN                 22.08   \n",
       "10057641   01/02/2021      01:00     AMADEUS_ALL                 22.01   \n",
       "10057642   01/02/2021      01:00     AMISTAD_ALL                 22.57   \n",
       "10057643   01/02/2021      01:00    AMOCOOIL_CC1                 22.08   \n",
       "...               ...        ...             ...                   ...   \n",
       "16018108   10/31/2024      24:00    W_HRL_ESR_RN                 23.30   \n",
       "16018109   10/31/2024      24:00    W_PECO_UNIT1                 94.61   \n",
       "16018110   10/31/2024      24:00        X443ESRN                 24.20   \n",
       "16018111   10/31/2024      24:00     YNG_WND_ALL                 12.29   \n",
       "16018112   10/31/2024      24:00    ZIER_SLR_ALL                 32.68   \n",
       "\n",
       "         DSTFlag       date      month  hour  \n",
       "10057639       N 2021-01-02 2021-01-01     1  \n",
       "10057640       N 2021-01-02 2021-01-01     1  \n",
       "10057641       N 2021-01-02 2021-01-01     1  \n",
       "10057642       N 2021-01-02 2021-01-01     1  \n",
       "10057643       N 2021-01-02 2021-01-01     1  \n",
       "...          ...        ...        ...   ...  \n",
       "16018108       N 2024-10-31 2024-10-01    24  \n",
       "16018109       N 2024-10-31 2024-10-01    24  \n",
       "16018110       N 2024-10-31 2024-10-01    24  \n",
       "16018111       N 2024-10-31 2024-10-01    24  \n",
       "16018112       N 2024-10-31 2024-10-01    24  \n",
       "\n",
       "[27425460 rows x 8 columns]"
      ]
     },
     "execution_count": 33,
     "metadata": {},
     "output_type": "execute_result"
    }
   ],
   "source": [
    "LMP_hourly = LMP_hourly.sort_values(by = ['date', 'hour'], ascending = True)\n",
    "\n",
    "LMP_hourly"
   ]
  },
  {
   "cell_type": "code",
   "execution_count": 34,
   "metadata": {},
   "outputs": [],
   "source": [
    "top_df['dist_days'] = (top_df['StartDate'] - top_df['auction_date']).dt.days\n",
    "top_df['predict_result'] = top_df['CRRPerMWH'] - top_df['ShadowPricePerMWH']\n",
    "tail_df['dist_days'] = (tail_df['StartDate'] - tail_df['auction_date']).dt.days\n",
    "tail_df['predict_result'] = tail_df['CRRPerMWH'] - tail_df['ShadowPricePerMWH']"
   ]
  },
  {
   "cell_type": "code",
   "execution_count": 35,
   "metadata": {},
   "outputs": [],
   "source": [
    "top_df['tree_y'] = [1 if x > 0 else 0 for x in top_df['predict_result']]\n",
    "tail_df['tree_y'] = [1 if x > 0 else 0 for x in tail_df['predict_result']]"
   ]
  },
  {
   "cell_type": "code",
   "execution_count": 36,
   "metadata": {},
   "outputs": [],
   "source": [
    "top_df['auction_date'] = pd.to_datetime(top_df['auction_date'])\n",
    "tail_df['auction_date'] = pd.to_datetime(tail_df['auction_date'])"
   ]
  },
  {
   "cell_type": "code",
   "execution_count": 37,
   "metadata": {},
   "outputs": [],
   "source": [
    "LMP_hourly['date'] = pd.to_datetime(LMP_hourly['date'])  # Convert 'date' to datetime\n",
    "LMP_hourly['hour'] = LMP_hourly['hour'].astype(int)      # Ensure 'hour' is integer\n",
    "\n",
    "    # Add a datetime column for filtering\n",
    "LMP_hourly['datetime'] = LMP_hourly['date'] + pd.to_timedelta(LMP_hourly['hour'], unit='h')"
   ]
  },
  {
   "cell_type": "code",
   "execution_count": 38,
   "metadata": {},
   "outputs": [],
   "source": [
    "# from tqdm import tqdm\n",
    "\n",
    "# data_df = []\n",
    "\n",
    "# for idx,row in tqdm(top_df.iterrows()):\n",
    "#     auction_date = row['auction_date']\n",
    "#     source = row['Source']  # Assumes column name 'Source' for SettlementPoint\n",
    "#     sink = row['Sink']      # Assumes column name 'Sink' for SettlementPoint\n",
    "\n",
    "#     start_time = auction_date - pd.Timedelta(days=2)  # Start 2 days before the auction date\n",
    "#     end_time = auction_date + pd.Timedelta(hours=17)  # End at 5:00 PM on the auction date\n",
    "\n",
    "#     source_data = LMP_hourly[\n",
    "#         (LMP_hourly['datetime'] >= start_time) &\n",
    "#         (LMP_hourly['datetime'] < end_time) &\n",
    "#         (LMP_hourly['SettlementPoint'] == source)\n",
    "#     ].copy()  # Use .copy() to avoid SettingWithCopyWarning\n",
    "\n",
    "#     sink_data = LMP_hourly[\n",
    "#         (LMP_hourly['datetime'] >= start_time) &\n",
    "#         (LMP_hourly['datetime'] < end_time) &\n",
    "#         (LMP_hourly['SettlementPoint'] == sink)\n",
    "#     ].copy()\n",
    "#     #print(sink_data)\n",
    "#     # Calculate lagged column names for source and sink\n",
    "#     source_data['col'] = source_data.apply(\n",
    "#         lambda r: f\"source_lag_{int(((auction_date + pd.Timedelta(hours=17)) - r['datetime']).total_seconds() / 3600)}\",\n",
    "#         axis=1\n",
    "#     )\n",
    "\n",
    "#     sink_data['col'] = sink_data.apply(\n",
    "#         lambda r: f\"sink_lag_{int(((auction_date + pd.Timedelta(hours=17)) - r['datetime']).total_seconds() / 3600)}\",\n",
    "#         axis=1\n",
    "#     )\n",
    "\n",
    "#     # Prepare dataframes for pivoting\n",
    "#     source_data = source_data[['col', 'SettlementPointPrice']].set_index('col').T\n",
    "#     sink_data = sink_data[['col', 'SettlementPointPrice']].set_index('col').T\n",
    "\n",
    "#     # Merge source and sink data\n",
    "#     lookback_data = pd.concat([sink_data, source_data], axis=1)\n",
    "\n",
    "#     data_df.append(lookback_data)\n",
    "\n",
    "#     # if idx > 10:\n",
    "#     #     break\n",
    "\n",
    "# data_df = pd.concat(data_df)\n",
    "\n",
    "# data_df.to_csv(\"data_df.csv\")\n",
    "\n",
    "data_df = pd.read_csv(\"data_df.csv\",index_col=0)"
   ]
  },
  {
   "cell_type": "code",
   "execution_count": 39,
   "metadata": {},
   "outputs": [],
   "source": [
    "data_df_clean = data_df.reset_index(drop=True)\n",
    "top_df_copy = top_df.reset_index(drop=True).copy()\n",
    "\n",
    "top_df_copy = pd.concat([top_df, data_df_clean], axis=1)"
   ]
  },
  {
   "cell_type": "code",
   "execution_count": 40,
   "metadata": {},
   "outputs": [
    {
     "data": {
      "text/plain": [
       "Index(['Source', 'Sink', 'TimeOfUse', 'StartDate', 'EndDate',\n",
       "       'ShadowPricePerMWH', 'date', 'duration', 'auction_info', 'score',\n",
       "       ...\n",
       "       'source_lag_10', 'source_lag_9', 'source_lag_8', 'source_lag_7',\n",
       "       'source_lag_6', 'source_lag_5', 'source_lag_4', 'source_lag_3',\n",
       "       'source_lag_2', 'source_lag_1'],\n",
       "      dtype='object', length=146)"
      ]
     },
     "execution_count": 40,
     "metadata": {},
     "output_type": "execute_result"
    }
   ],
   "source": [
    "top_df_copy.columns"
   ]
  },
  {
   "cell_type": "code",
   "execution_count": null,
   "metadata": {},
   "outputs": [],
   "source": [
    "top_df_copy.durations"
   ]
  },
  {
   "cell_type": "code",
   "execution_count": 41,
   "metadata": {},
   "outputs": [
    {
     "name": "stdout",
     "output_type": "stream",
     "text": [
      "Index(['duration', 'score', 'dist_days', 'tree_y', 'sink_lag_65',\n",
      "       'sink_lag_64', 'sink_lag_63', 'sink_lag_62', 'sink_lag_61',\n",
      "       'sink_lag_60',\n",
      "       ...\n",
      "       'source_lag_10', 'source_lag_9', 'source_lag_8', 'source_lag_7',\n",
      "       'source_lag_6', 'source_lag_5', 'source_lag_4', 'source_lag_3',\n",
      "       'source_lag_2', 'source_lag_1'],\n",
      "      dtype='object', length=134)\n"
     ]
    },
    {
     "data": {
      "application/vnd.plotly.v1+json": {
       "config": {
        "plotlyServerURL": "https://plot.ly"
       },
       "data": [
        {
         "coloraxis": "coloraxis",
         "hovertemplate": "x: %{x}<br>y: %{y}<br>color: %{z}<extra></extra>",
         "name": "0",
         "texttemplate": "%{z}",
         "type": "heatmap",
         "x": [
          "duration",
          "score",
          "dist_days",
          "tree_y",
          "sink_lag_65",
          "sink_lag_64",
          "sink_lag_63",
          "sink_lag_62",
          "sink_lag_61",
          "sink_lag_60",
          "sink_lag_59",
          "sink_lag_58",
          "sink_lag_57",
          "sink_lag_56",
          "sink_lag_55",
          "sink_lag_54",
          "sink_lag_53",
          "sink_lag_52",
          "sink_lag_51",
          "sink_lag_50",
          "sink_lag_49",
          "sink_lag_48",
          "sink_lag_47",
          "sink_lag_46",
          "sink_lag_45",
          "sink_lag_44",
          "sink_lag_43",
          "sink_lag_42",
          "sink_lag_41",
          "sink_lag_40",
          "sink_lag_39",
          "sink_lag_38",
          "sink_lag_37",
          "sink_lag_36",
          "sink_lag_35",
          "sink_lag_34",
          "sink_lag_33",
          "sink_lag_32",
          "sink_lag_31",
          "sink_lag_30",
          "sink_lag_29",
          "sink_lag_28",
          "sink_lag_27",
          "sink_lag_26",
          "sink_lag_25",
          "sink_lag_24",
          "sink_lag_23",
          "sink_lag_22",
          "sink_lag_21",
          "sink_lag_20",
          "sink_lag_19",
          "sink_lag_18",
          "sink_lag_17",
          "sink_lag_16",
          "sink_lag_15",
          "sink_lag_14",
          "sink_lag_13",
          "sink_lag_12",
          "sink_lag_11",
          "sink_lag_10",
          "sink_lag_9",
          "sink_lag_8",
          "sink_lag_7",
          "sink_lag_6",
          "sink_lag_5",
          "sink_lag_4",
          "sink_lag_3",
          "sink_lag_2",
          "sink_lag_1",
          "source_lag_65",
          "source_lag_64",
          "source_lag_63",
          "source_lag_62",
          "source_lag_61",
          "source_lag_60",
          "source_lag_59",
          "source_lag_58",
          "source_lag_57",
          "source_lag_56",
          "source_lag_55",
          "source_lag_54",
          "source_lag_53",
          "source_lag_52",
          "source_lag_51",
          "source_lag_50",
          "source_lag_49",
          "source_lag_48",
          "source_lag_47",
          "source_lag_46",
          "source_lag_45",
          "source_lag_44",
          "source_lag_43",
          "source_lag_42",
          "source_lag_41",
          "source_lag_40",
          "source_lag_39",
          "source_lag_38",
          "source_lag_37",
          "source_lag_36",
          "source_lag_35",
          "source_lag_34",
          "source_lag_33",
          "source_lag_32",
          "source_lag_31",
          "source_lag_30",
          "source_lag_29",
          "source_lag_28",
          "source_lag_27",
          "source_lag_26",
          "source_lag_25",
          "source_lag_24",
          "source_lag_23",
          "source_lag_22",
          "source_lag_21",
          "source_lag_20",
          "source_lag_19",
          "source_lag_18",
          "source_lag_17",
          "source_lag_16",
          "source_lag_15",
          "source_lag_14",
          "source_lag_13",
          "source_lag_12",
          "source_lag_11",
          "source_lag_10",
          "source_lag_9",
          "source_lag_8",
          "source_lag_7",
          "source_lag_6",
          "source_lag_5",
          "source_lag_4",
          "source_lag_3",
          "source_lag_2",
          "source_lag_1"
         ],
         "xaxis": "x",
         "y": [
          "duration",
          "score",
          "dist_days",
          "tree_y",
          "sink_lag_65",
          "sink_lag_64",
          "sink_lag_63",
          "sink_lag_62",
          "sink_lag_61",
          "sink_lag_60",
          "sink_lag_59",
          "sink_lag_58",
          "sink_lag_57",
          "sink_lag_56",
          "sink_lag_55",
          "sink_lag_54",
          "sink_lag_53",
          "sink_lag_52",
          "sink_lag_51",
          "sink_lag_50",
          "sink_lag_49",
          "sink_lag_48",
          "sink_lag_47",
          "sink_lag_46",
          "sink_lag_45",
          "sink_lag_44",
          "sink_lag_43",
          "sink_lag_42",
          "sink_lag_41",
          "sink_lag_40",
          "sink_lag_39",
          "sink_lag_38",
          "sink_lag_37",
          "sink_lag_36",
          "sink_lag_35",
          "sink_lag_34",
          "sink_lag_33",
          "sink_lag_32",
          "sink_lag_31",
          "sink_lag_30",
          "sink_lag_29",
          "sink_lag_28",
          "sink_lag_27",
          "sink_lag_26",
          "sink_lag_25",
          "sink_lag_24",
          "sink_lag_23",
          "sink_lag_22",
          "sink_lag_21",
          "sink_lag_20",
          "sink_lag_19",
          "sink_lag_18",
          "sink_lag_17",
          "sink_lag_16",
          "sink_lag_15",
          "sink_lag_14",
          "sink_lag_13",
          "sink_lag_12",
          "sink_lag_11",
          "sink_lag_10",
          "sink_lag_9",
          "sink_lag_8",
          "sink_lag_7",
          "sink_lag_6",
          "sink_lag_5",
          "sink_lag_4",
          "sink_lag_3",
          "sink_lag_2",
          "sink_lag_1",
          "source_lag_65",
          "source_lag_64",
          "source_lag_63",
          "source_lag_62",
          "source_lag_61",
          "source_lag_60",
          "source_lag_59",
          "source_lag_58",
          "source_lag_57",
          "source_lag_56",
          "source_lag_55",
          "source_lag_54",
          "source_lag_53",
          "source_lag_52",
          "source_lag_51",
          "source_lag_50",
          "source_lag_49",
          "source_lag_48",
          "source_lag_47",
          "source_lag_46",
          "source_lag_45",
          "source_lag_44",
          "source_lag_43",
          "source_lag_42",
          "source_lag_41",
          "source_lag_40",
          "source_lag_39",
          "source_lag_38",
          "source_lag_37",
          "source_lag_36",
          "source_lag_35",
          "source_lag_34",
          "source_lag_33",
          "source_lag_32",
          "source_lag_31",
          "source_lag_30",
          "source_lag_29",
          "source_lag_28",
          "source_lag_27",
          "source_lag_26",
          "source_lag_25",
          "source_lag_24",
          "source_lag_23",
          "source_lag_22",
          "source_lag_21",
          "source_lag_20",
          "source_lag_19",
          "source_lag_18",
          "source_lag_17",
          "source_lag_16",
          "source_lag_15",
          "source_lag_14",
          "source_lag_13",
          "source_lag_12",
          "source_lag_11",
          "source_lag_10",
          "source_lag_9",
          "source_lag_8",
          "source_lag_7",
          "source_lag_6",
          "source_lag_5",
          "source_lag_4",
          "source_lag_3",
          "source_lag_2",
          "source_lag_1"
         ],
         "yaxis": "y",
         "z": {
          "bdata": "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",
          "dtype": "f8",
          "shape": "134, 134"
         }
        }
       ],
       "layout": {
        "coloraxis": {
         "colorscale": [
          [
           0,
           "rgb(0, 155, 158)"
          ],
          [
           0.16666666666666666,
           "rgb(66, 183, 185)"
          ],
          [
           0.3333333333333333,
           "rgb(167, 211, 212)"
          ],
          [
           0.5,
           "rgb(241, 241, 241)"
          ],
          [
           0.6666666666666666,
           "rgb(228, 193, 217)"
          ],
          [
           0.8333333333333334,
           "rgb(214, 145, 193)"
          ],
          [
           1,
           "rgb(199, 93, 171)"
          ]
         ]
        },
        "height": 1000,
        "margin": {
         "t": 60
        },
        "template": {
         "data": {
          "bar": [
           {
            "error_x": {
             "color": "#2a3f5f"
            },
            "error_y": {
             "color": "#2a3f5f"
            },
            "marker": {
             "line": {
              "color": "#E5ECF6",
              "width": 0.5
             },
             "pattern": {
              "fillmode": "overlay",
              "size": 10,
              "solidity": 0.2
             }
            },
            "type": "bar"
           }
          ],
          "barpolar": [
           {
            "marker": {
             "line": {
              "color": "#E5ECF6",
              "width": 0.5
             },
             "pattern": {
              "fillmode": "overlay",
              "size": 10,
              "solidity": 0.2
             }
            },
            "type": "barpolar"
           }
          ],
          "carpet": [
           {
            "aaxis": {
             "endlinecolor": "#2a3f5f",
             "gridcolor": "white",
             "linecolor": "white",
             "minorgridcolor": "white",
             "startlinecolor": "#2a3f5f"
            },
            "baxis": {
             "endlinecolor": "#2a3f5f",
             "gridcolor": "white",
             "linecolor": "white",
             "minorgridcolor": "white",
             "startlinecolor": "#2a3f5f"
            },
            "type": "carpet"
           }
          ],
          "choropleth": [
           {
            "colorbar": {
             "outlinewidth": 0,
             "ticks": ""
            },
            "type": "choropleth"
           }
          ],
          "contour": [
           {
            "colorbar": {
             "outlinewidth": 0,
             "ticks": ""
            },
            "colorscale": [
             [
              0,
              "#0d0887"
             ],
             [
              0.1111111111111111,
              "#46039f"
             ],
             [
              0.2222222222222222,
              "#7201a8"
             ],
             [
              0.3333333333333333,
              "#9c179e"
             ],
             [
              0.4444444444444444,
              "#bd3786"
             ],
             [
              0.5555555555555556,
              "#d8576b"
             ],
             [
              0.6666666666666666,
              "#ed7953"
             ],
             [
              0.7777777777777778,
              "#fb9f3a"
             ],
             [
              0.8888888888888888,
              "#fdca26"
             ],
             [
              1,
              "#f0f921"
             ]
            ],
            "type": "contour"
           }
          ],
          "contourcarpet": [
           {
            "colorbar": {
             "outlinewidth": 0,
             "ticks": ""
            },
            "type": "contourcarpet"
           }
          ],
          "heatmap": [
           {
            "colorbar": {
             "outlinewidth": 0,
             "ticks": ""
            },
            "colorscale": [
             [
              0,
              "#0d0887"
             ],
             [
              0.1111111111111111,
              "#46039f"
             ],
             [
              0.2222222222222222,
              "#7201a8"
             ],
             [
              0.3333333333333333,
              "#9c179e"
             ],
             [
              0.4444444444444444,
              "#bd3786"
             ],
             [
              0.5555555555555556,
              "#d8576b"
             ],
             [
              0.6666666666666666,
              "#ed7953"
             ],
             [
              0.7777777777777778,
              "#fb9f3a"
             ],
             [
              0.8888888888888888,
              "#fdca26"
             ],
             [
              1,
              "#f0f921"
             ]
            ],
            "type": "heatmap"
           }
          ],
          "histogram": [
           {
            "marker": {
             "pattern": {
              "fillmode": "overlay",
              "size": 10,
              "solidity": 0.2
             }
            },
            "type": "histogram"
           }
          ],
          "histogram2d": [
           {
            "colorbar": {
             "outlinewidth": 0,
             "ticks": ""
            },
            "colorscale": [
             [
              0,
              "#0d0887"
             ],
             [
              0.1111111111111111,
              "#46039f"
             ],
             [
              0.2222222222222222,
              "#7201a8"
             ],
             [
              0.3333333333333333,
              "#9c179e"
             ],
             [
              0.4444444444444444,
              "#bd3786"
             ],
             [
              0.5555555555555556,
              "#d8576b"
             ],
             [
              0.6666666666666666,
              "#ed7953"
             ],
             [
              0.7777777777777778,
              "#fb9f3a"
             ],
             [
              0.8888888888888888,
              "#fdca26"
             ],
             [
              1,
              "#f0f921"
             ]
            ],
            "type": "histogram2d"
           }
          ],
          "histogram2dcontour": [
           {
            "colorbar": {
             "outlinewidth": 0,
             "ticks": ""
            },
            "colorscale": [
             [
              0,
              "#0d0887"
             ],
             [
              0.1111111111111111,
              "#46039f"
             ],
             [
              0.2222222222222222,
              "#7201a8"
             ],
             [
              0.3333333333333333,
              "#9c179e"
             ],
             [
              0.4444444444444444,
              "#bd3786"
             ],
             [
              0.5555555555555556,
              "#d8576b"
             ],
             [
              0.6666666666666666,
              "#ed7953"
             ],
             [
              0.7777777777777778,
              "#fb9f3a"
             ],
             [
              0.8888888888888888,
              "#fdca26"
             ],
             [
              1,
              "#f0f921"
             ]
            ],
            "type": "histogram2dcontour"
           }
          ],
          "mesh3d": [
           {
            "colorbar": {
             "outlinewidth": 0,
             "ticks": ""
            },
            "type": "mesh3d"
           }
          ],
          "parcoords": [
           {
            "line": {
             "colorbar": {
              "outlinewidth": 0,
              "ticks": ""
             }
            },
            "type": "parcoords"
           }
          ],
          "pie": [
           {
            "automargin": true,
            "type": "pie"
           }
          ],
          "scatter": [
           {
            "fillpattern": {
             "fillmode": "overlay",
             "size": 10,
             "solidity": 0.2
            },
            "type": "scatter"
           }
          ],
          "scatter3d": [
           {
            "line": {
             "colorbar": {
              "outlinewidth": 0,
              "ticks": ""
             }
            },
            "marker": {
             "colorbar": {
              "outlinewidth": 0,
              "ticks": ""
             }
            },
            "type": "scatter3d"
           }
          ],
          "scattercarpet": [
           {
            "marker": {
             "colorbar": {
              "outlinewidth": 0,
              "ticks": ""
             }
            },
            "type": "scattercarpet"
           }
          ],
          "scattergeo": [
           {
            "marker": {
             "colorbar": {
              "outlinewidth": 0,
              "ticks": ""
             }
            },
            "type": "scattergeo"
           }
          ],
          "scattergl": [
           {
            "marker": {
             "colorbar": {
              "outlinewidth": 0,
              "ticks": ""
             }
            },
            "type": "scattergl"
           }
          ],
          "scattermap": [
           {
            "marker": {
             "colorbar": {
              "outlinewidth": 0,
              "ticks": ""
             }
            },
            "type": "scattermap"
           }
          ],
          "scattermapbox": [
           {
            "marker": {
             "colorbar": {
              "outlinewidth": 0,
              "ticks": ""
             }
            },
            "type": "scattermapbox"
           }
          ],
          "scatterpolar": [
           {
            "marker": {
             "colorbar": {
              "outlinewidth": 0,
              "ticks": ""
             }
            },
            "type": "scatterpolar"
           }
          ],
          "scatterpolargl": [
           {
            "marker": {
             "colorbar": {
              "outlinewidth": 0,
              "ticks": ""
             }
            },
            "type": "scatterpolargl"
           }
          ],
          "scatterternary": [
           {
            "marker": {
             "colorbar": {
              "outlinewidth": 0,
              "ticks": ""
             }
            },
            "type": "scatterternary"
           }
          ],
          "surface": [
           {
            "colorbar": {
             "outlinewidth": 0,
             "ticks": ""
            },
            "colorscale": [
             [
              0,
              "#0d0887"
             ],
             [
              0.1111111111111111,
              "#46039f"
             ],
             [
              0.2222222222222222,
              "#7201a8"
             ],
             [
              0.3333333333333333,
              "#9c179e"
             ],
             [
              0.4444444444444444,
              "#bd3786"
             ],
             [
              0.5555555555555556,
              "#d8576b"
             ],
             [
              0.6666666666666666,
              "#ed7953"
             ],
             [
              0.7777777777777778,
              "#fb9f3a"
             ],
             [
              0.8888888888888888,
              "#fdca26"
             ],
             [
              1,
              "#f0f921"
             ]
            ],
            "type": "surface"
           }
          ],
          "table": [
           {
            "cells": {
             "fill": {
              "color": "#EBF0F8"
             },
             "line": {
              "color": "white"
             }
            },
            "header": {
             "fill": {
              "color": "#C8D4E3"
             },
             "line": {
              "color": "white"
             }
            },
            "type": "table"
           }
          ]
         },
         "layout": {
          "annotationdefaults": {
           "arrowcolor": "#2a3f5f",
           "arrowhead": 0,
           "arrowwidth": 1
          },
          "autotypenumbers": "strict",
          "coloraxis": {
           "colorbar": {
            "outlinewidth": 0,
            "ticks": ""
           }
          },
          "colorscale": {
           "diverging": [
            [
             0,
             "#8e0152"
            ],
            [
             0.1,
             "#c51b7d"
            ],
            [
             0.2,
             "#de77ae"
            ],
            [
             0.3,
             "#f1b6da"
            ],
            [
             0.4,
             "#fde0ef"
            ],
            [
             0.5,
             "#f7f7f7"
            ],
            [
             0.6,
             "#e6f5d0"
            ],
            [
             0.7,
             "#b8e186"
            ],
            [
             0.8,
             "#7fbc41"
            ],
            [
             0.9,
             "#4d9221"
            ],
            [
             1,
             "#276419"
            ]
           ],
           "sequential": [
            [
             0,
             "#0d0887"
            ],
            [
             0.1111111111111111,
             "#46039f"
            ],
            [
             0.2222222222222222,
             "#7201a8"
            ],
            [
             0.3333333333333333,
             "#9c179e"
            ],
            [
             0.4444444444444444,
             "#bd3786"
            ],
            [
             0.5555555555555556,
             "#d8576b"
            ],
            [
             0.6666666666666666,
             "#ed7953"
            ],
            [
             0.7777777777777778,
             "#fb9f3a"
            ],
            [
             0.8888888888888888,
             "#fdca26"
            ],
            [
             1,
             "#f0f921"
            ]
           ],
           "sequentialminus": [
            [
             0,
             "#0d0887"
            ],
            [
             0.1111111111111111,
             "#46039f"
            ],
            [
             0.2222222222222222,
             "#7201a8"
            ],
            [
             0.3333333333333333,
             "#9c179e"
            ],
            [
             0.4444444444444444,
             "#bd3786"
            ],
            [
             0.5555555555555556,
             "#d8576b"
            ],
            [
             0.6666666666666666,
             "#ed7953"
            ],
            [
             0.7777777777777778,
             "#fb9f3a"
            ],
            [
             0.8888888888888888,
             "#fdca26"
            ],
            [
             1,
             "#f0f921"
            ]
           ]
          },
          "colorway": [
           "#636efa",
           "#EF553B",
           "#00cc96",
           "#ab63fa",
           "#FFA15A",
           "#19d3f3",
           "#FF6692",
           "#B6E880",
           "#FF97FF",
           "#FECB52"
          ],
          "font": {
           "color": "#2a3f5f"
          },
          "geo": {
           "bgcolor": "white",
           "lakecolor": "white",
           "landcolor": "#E5ECF6",
           "showlakes": true,
           "showland": true,
           "subunitcolor": "white"
          },
          "hoverlabel": {
           "align": "left"
          },
          "hovermode": "closest",
          "mapbox": {
           "style": "light"
          },
          "paper_bgcolor": "white",
          "plot_bgcolor": "#E5ECF6",
          "polar": {
           "angularaxis": {
            "gridcolor": "white",
            "linecolor": "white",
            "ticks": ""
           },
           "bgcolor": "#E5ECF6",
           "radialaxis": {
            "gridcolor": "white",
            "linecolor": "white",
            "ticks": ""
           }
          },
          "scene": {
           "xaxis": {
            "backgroundcolor": "#E5ECF6",
            "gridcolor": "white",
            "gridwidth": 2,
            "linecolor": "white",
            "showbackground": true,
            "ticks": "",
            "zerolinecolor": "white"
           },
           "yaxis": {
            "backgroundcolor": "#E5ECF6",
            "gridcolor": "white",
            "gridwidth": 2,
            "linecolor": "white",
            "showbackground": true,
            "ticks": "",
            "zerolinecolor": "white"
           },
           "zaxis": {
            "backgroundcolor": "#E5ECF6",
            "gridcolor": "white",
            "gridwidth": 2,
            "linecolor": "white",
            "showbackground": true,
            "ticks": "",
            "zerolinecolor": "white"
           }
          },
          "shapedefaults": {
           "line": {
            "color": "#2a3f5f"
           }
          },
          "ternary": {
           "aaxis": {
            "gridcolor": "white",
            "linecolor": "white",
            "ticks": ""
           },
           "baxis": {
            "gridcolor": "white",
            "linecolor": "white",
            "ticks": ""
           },
           "bgcolor": "#E5ECF6",
           "caxis": {
            "gridcolor": "white",
            "linecolor": "white",
            "ticks": ""
           }
          },
          "title": {
           "x": 0.05
          },
          "xaxis": {
           "automargin": true,
           "gridcolor": "white",
           "linecolor": "white",
           "ticks": "",
           "title": {
            "standoff": 15
           },
           "zerolinecolor": "white",
           "zerolinewidth": 2
          },
          "yaxis": {
           "automargin": true,
           "gridcolor": "white",
           "linecolor": "white",
           "ticks": "",
           "title": {
            "standoff": 15
           },
           "zerolinecolor": "white",
           "zerolinewidth": 2
          }
         }
        },
        "title": {
         "font": {
          "color": "black",
          "size": 16
         },
         "text": "Correlation heatmap for my data",
         "x": 0.5
        },
        "width": 1000,
        "xaxis": {
         "anchor": "y",
         "constrain": "domain",
         "domain": [
          0,
          1
         ],
         "scaleanchor": "y"
        },
        "yaxis": {
         "anchor": "x",
         "autorange": "reversed",
         "constrain": "domain",
         "domain": [
          0,
          1
         ]
        }
       }
      }
     },
     "metadata": {},
     "output_type": "display_data"
    }
   ],
   "source": [
    "# examine correlation between variables\n",
    "vars = top_df_copy.drop(columns = ['ShadowPricePerMWH', 'StartDate', 'EndDate', 'date', 'auction_info', 'auction_date', 'agg_MW', 'CRRPerMWH', 'predict_result', 'Sink', 'Source', 'TimeOfUse'])\n",
    "print(vars.columns)\n",
    "\n",
    "vars_corr = vars.corr(method='pearson')\n",
    "mask = np.triu(np.ones_like(vars_corr, dtype=bool))\n",
    "vars_corr = vars_corr.mask(mask)\n",
    "\n",
    "fig = px.imshow(vars_corr, text_auto = True, color_continuous_scale=\"Tropic\")\n",
    "fig.update_layout(\n",
    "    title=f'Correlation heatmap for my data',\n",
    "    width=1000, height=1000,\n",
    "    title_font=dict(size=16, color='black'),  # Customize title font\n",
    "    title_x=0.5  # Center the title\n",
    ")\n",
    "fig.show()"
   ]
  },
  {
   "cell_type": "code",
   "execution_count": 28,
   "metadata": {},
   "outputs": [
    {
     "data": {
      "text/plain": [
       "Index(['Source', 'Sink', 'TimeOfUse', 'duration', 'score', 'dist_days',\n",
       "       'tree_y', 'sink_lag_65', 'sink_lag_64', 'sink_lag_63', 'sink_lag_62',\n",
       "       'sink_lag_61', 'sink_lag_60', 'sink_lag_59', 'sink_lag_58',\n",
       "       'sink_lag_57', 'sink_lag_56', 'sink_lag_55', 'sink_lag_54',\n",
       "       'sink_lag_53', 'sink_lag_52', 'sink_lag_51', 'sink_lag_50',\n",
       "       'sink_lag_49', 'sink_lag_48', 'sink_lag_47', 'sink_lag_46',\n",
       "       'sink_lag_45', 'sink_lag_44', 'sink_lag_43'],\n",
       "      dtype='object')"
      ]
     },
     "execution_count": 28,
     "metadata": {},
     "output_type": "execute_result"
    }
   ],
   "source": [
    "# Step 1: Split the data into training, validation, and testing\n",
    "test_df = top_df_copy[top_df_copy['auction_date'] > '2023-04-30'].drop(columns = ['ShadowPricePerMWH','StartDate', 'EndDate', 'date', 'auction_info', 'auction_date', 'agg_MW', 'CRRPerMWH', 'predict_result']).dropna()\n",
    "valid_df = top_df_copy[(top_df_copy['auction_date'] <= '2023-04-30')&(top_df_copy['auction_date'] > '2022-11-30')].drop(columns = ['ShadowPricePerMWH', 'StartDate', 'EndDate', 'date', 'auction_info', 'auction_date', 'agg_MW', 'CRRPerMWH', 'predict_result']).dropna()\n",
    "train_df = top_df_copy[(top_df_copy['auction_date'] <= '2022-11-30')].drop(columns = ['ShadowPricePerMWH','StartDate', 'EndDate', 'date', 'auction_info', 'auction_date', 'agg_MW', 'CRRPerMWH', 'predict_result']).dropna()\n",
    "\n",
    "test_df.columns[:30]"
   ]
  },
  {
   "cell_type": "code",
   "execution_count": 42,
   "metadata": {},
   "outputs": [
    {
     "name": "stdout",
     "output_type": "stream",
     "text": [
      "Best Parameters: {'n_estimators': 200, 'learning_rate': 0.1, 'max_depth': 5, 'subsample': 1, 'colsample_bytree': 1}\n",
      "Best Validation Accuracy: 0.8170103092783505\n",
      "Confusion Matrix:\n",
      "[[286  14]\n",
      " [ 94  42]]\n",
      "Test Accuracy: 0.7522935779816514\n",
      "Test Precision: 0.75\n",
      "Test Recall: 0.3088235294117647\n",
      "Test F1 Score: 0.4375\n"
     ]
    }
   ],
   "source": [
    "import xgboost as xgb\n",
    "from sklearn.model_selection import train_test_split\n",
    "from sklearn.metrics import confusion_matrix, accuracy_score, precision_score, recall_score, f1_score\n",
    "import itertools\n",
    "\n",
    "\n",
    "y_test = test_df['tree_y']\n",
    "y_val = valid_df['tree_y']\n",
    "y_train = train_df['tree_y']\n",
    "\n",
    "X_test= test_df.drop(columns = [ 'tree_y'])\n",
    "X_val = valid_df.drop(columns = ['tree_y'])\n",
    "X_train = train_df.drop(columns = ['tree_y'])\n",
    "\n",
    "\n",
    "categorical_columns = X_test.select_dtypes(include=['object']).columns\n",
    "for col in categorical_columns:\n",
    "    X_test[col] = X_test[col].astype('category')\n",
    "    X_val[col] = X_val[col].astype('category')\n",
    "    X_train[col] = X_train[col].astype('category')\n",
    "\n",
    "\n",
    "# Step 3: Define the parameter grid\n",
    "param_grid = {\n",
    "    'n_estimators': [100, 200],\n",
    "    'learning_rate': [0.1, 0.2],\n",
    "    'max_depth': [3, 5],\n",
    "    'subsample': [0.8, 1],\n",
    "    'colsample_bytree': [0.8, 1]\n",
    "}\n",
    "\n",
    "# Step 4: Manual grid search\n",
    "best_model = None\n",
    "best_params = None\n",
    "highest_val_accuracy = 0\n",
    "\n",
    "# Iterate over all combinations of parameters\n",
    "for params in itertools.product(*param_grid.values()):\n",
    "    params_dict = dict(zip(param_grid.keys(), params))\n",
    "    \n",
    "    # Initialize XGBoost model with categorical support\n",
    "    model = xgb.XGBClassifier(\n",
    "        objective='binary:logistic',  # For binary classification\n",
    "        enable_categorical=True,\n",
    "        random_state=42,\n",
    "        **params_dict\n",
    "    )\n",
    "    # Train on the training set\n",
    "    model.fit(X_train, y_train)\n",
    "    \n",
    "    # Predict on the validation set\n",
    "    y_val_pred = model.predict(X_val)\n",
    "    val_accuracy = accuracy_score(y_val, y_val_pred)\n",
    "    \n",
    "    # Update best model if validation accuracy is higher\n",
    "    if val_accuracy > highest_val_accuracy:\n",
    "        best_model = model\n",
    "        best_params = params_dict\n",
    "        highest_val_accuracy = val_accuracy\n",
    "\n",
    "print(\"Best Parameters:\", best_params)\n",
    "print(f\"Best Validation Accuracy: {highest_val_accuracy}\")\n",
    "\n",
    "# Step 5: Evaluate the best model on the test set\n",
    "y_test_pred = best_model.predict(X_test)\n",
    "\n",
    "# Confusion Matrix\n",
    "conf_matrix = confusion_matrix(y_test, y_test_pred)\n",
    "print(\"Confusion Matrix:\")\n",
    "print(conf_matrix)\n",
    "\n",
    "# Additional Metrics\n",
    "test_accuracy = accuracy_score(y_test, y_test_pred)\n",
    "test_precision = precision_score(y_test, y_test_pred)\n",
    "test_recall = recall_score(y_test, y_test_pred)\n",
    "test_f1 = f1_score(y_test, y_test_pred)\n",
    "\n",
    "print(f\"Test Accuracy: {test_accuracy}\")\n",
    "print(f\"Test Precision: {test_precision}\")\n",
    "print(f\"Test Recall: {test_recall}\")\n",
    "print(f\"Test F1 Score: {test_f1}\")"
   ]
  },
  {
   "cell_type": "code",
   "execution_count": 43,
   "metadata": {},
   "outputs": [],
   "source": [
    "import pandas as pd\n",
    "from sklearn.model_selection import train_test_split\n",
    "from sklearn.linear_model import LinearRegression\n",
    "from sklearn.metrics import mean_squared_error, mean_absolute_error, r2_score\n",
    "\n",
    "categorical_cols = ['Source', 'Sink', 'TimeOfUse']\n",
    "\n",
    "# Apply One-Hot Encoding to small-cardinality categorical columns\n",
    "auction_top_df = pd.get_dummies(top_df, columns=categorical_cols, drop_first=True)\n",
    "\n",
    "test_df = auction_top_df[auction_top_df['auction_date'] > '2023-04-30'].drop(columns = ['StartDate', 'EndDate', 'date', 'auction_info', 'auction_date', 'agg_MW', 'predict_result']).dropna()\n",
    "valid_df = auction_top_df[(auction_top_df['auction_date'] <= '2023-04-30')&(auction_top_df['auction_date'] > '2022-11-30')].drop(columns = [ 'StartDate', 'EndDate', 'date', 'auction_info', 'auction_date', 'agg_MW',  'predict_result']).dropna()\n",
    "train_df = auction_top_df[(auction_top_df['auction_date'] <= '2022-11-30')].drop(columns = ['StartDate', 'EndDate', 'date', 'auction_info', 'auction_date', 'agg_MW', 'predict_result']).dropna()\n",
    "\n",
    "X_test= test_df.drop(columns = [ 'tree_y','ShadowPricePerMWH','CRRPerMWH'])\n",
    "X_val = valid_df.drop(columns = ['tree_y','ShadowPricePerMWH','CRRPerMWH'])\n",
    "X_train = train_df.drop(columns = ['tree_y','ShadowPricePerMWH','CRRPerMWH'])\n",
    "\n",
    "# Display the transformed DataFrame\n",
    "y_test_auction = test_df['ShadowPricePerMWH']\n",
    "y_val_auction = valid_df['ShadowPricePerMWH']\n",
    "y_train_auction = train_df['ShadowPricePerMWH']\n",
    "\n",
    "y_test_CRR = test_df['CRRPerMWH']\n",
    "y_val_CRR = valid_df['CRRPerMWH']\n",
    "y_train_CRR = train_df['CRRPerMWH']"
   ]
  },
  {
   "cell_type": "code",
   "execution_count": 44,
   "metadata": {},
   "outputs": [
    {
     "name": "stderr",
     "output_type": "stream",
     "text": [
      "/Users/leroy/Documents/GitHub/Electricity_trading/venv/lib/python3.11/site-packages/keras/src/layers/core/dense.py:87: UserWarning:\n",
      "\n",
      "Do not pass an `input_shape`/`input_dim` argument to a layer. When using Sequential models, prefer using an `Input(shape)` object as the first layer in the model instead.\n",
      "\n"
     ]
    },
    {
     "name": "stdout",
     "output_type": "stream",
     "text": [
      "Epoch 1/50\n",
      "\u001b[1m56/56\u001b[0m \u001b[32m━━━━━━━━━━━━━━━━━━━━\u001b[0m\u001b[37m\u001b[0m \u001b[1m2s\u001b[0m 10ms/step - loss: 15.5944 - mean_absolute_error: 2.7581 - val_loss: 9.8130 - val_mean_absolute_error: 2.0800\n",
      "Epoch 2/50\n",
      "\u001b[1m56/56\u001b[0m \u001b[32m━━━━━━━━━━━━━━━━━━━━\u001b[0m\u001b[37m\u001b[0m \u001b[1m0s\u001b[0m 6ms/step - loss: 11.0612 - mean_absolute_error: 2.1281 - val_loss: 5.4147 - val_mean_absolute_error: 1.5689\n",
      "Epoch 3/50\n",
      "\u001b[1m56/56\u001b[0m \u001b[32m━━━━━━━━━━━━━━━━━━━━\u001b[0m\u001b[37m\u001b[0m \u001b[1m0s\u001b[0m 5ms/step - loss: 6.2721 - mean_absolute_error: 1.5911 - val_loss: 4.4405 - val_mean_absolute_error: 1.4417\n",
      "Epoch 4/50\n",
      "\u001b[1m56/56\u001b[0m \u001b[32m━━━━━━━━━━━━━━━━━━━━\u001b[0m\u001b[37m\u001b[0m \u001b[1m0s\u001b[0m 5ms/step - loss: 4.9956 - mean_absolute_error: 1.4954 - val_loss: 4.4833 - val_mean_absolute_error: 1.5063\n",
      "Epoch 5/50\n",
      "\u001b[1m56/56\u001b[0m \u001b[32m━━━━━━━━━━━━━━━━━━━━\u001b[0m\u001b[37m\u001b[0m \u001b[1m0s\u001b[0m 6ms/step - loss: 4.5311 - mean_absolute_error: 1.4615 - val_loss: 4.7243 - val_mean_absolute_error: 1.5346\n",
      "Epoch 6/50\n",
      "\u001b[1m56/56\u001b[0m \u001b[32m━━━━━━━━━━━━━━━━━━━━\u001b[0m\u001b[37m\u001b[0m \u001b[1m0s\u001b[0m 7ms/step - loss: 4.1801 - mean_absolute_error: 1.3766 - val_loss: 5.0920 - val_mean_absolute_error: 1.5742\n",
      "Epoch 7/50\n",
      "\u001b[1m56/56\u001b[0m \u001b[32m━━━━━━━━━━━━━━━━━━━━\u001b[0m\u001b[37m\u001b[0m \u001b[1m0s\u001b[0m 5ms/step - loss: 4.1812 - mean_absolute_error: 1.3782 - val_loss: 4.7348 - val_mean_absolute_error: 1.5309\n",
      "Epoch 8/50\n",
      "\u001b[1m56/56\u001b[0m \u001b[32m━━━━━━━━━━━━━━━━━━━━\u001b[0m\u001b[37m\u001b[0m \u001b[1m0s\u001b[0m 5ms/step - loss: 3.8533 - mean_absolute_error: 1.3582 - val_loss: 5.0579 - val_mean_absolute_error: 1.5460\n",
      "Epoch 9/50\n",
      "\u001b[1m56/56\u001b[0m \u001b[32m━━━━━━━━━━━━━━━━━━━━\u001b[0m\u001b[37m\u001b[0m \u001b[1m0s\u001b[0m 5ms/step - loss: 3.7720 - mean_absolute_error: 1.3086 - val_loss: 4.6872 - val_mean_absolute_error: 1.5011\n",
      "Epoch 10/50\n",
      "\u001b[1m56/56\u001b[0m \u001b[32m━━━━━━━━━━━━━━━━━━━━\u001b[0m\u001b[37m\u001b[0m \u001b[1m0s\u001b[0m 5ms/step - loss: 3.3621 - mean_absolute_error: 1.2067 - val_loss: 4.6910 - val_mean_absolute_error: 1.4931\n",
      "Epoch 11/50\n",
      "\u001b[1m56/56\u001b[0m \u001b[32m━━━━━━━━━━━━━━━━━━━━\u001b[0m\u001b[37m\u001b[0m \u001b[1m0s\u001b[0m 5ms/step - loss: 3.1810 - mean_absolute_error: 1.2089 - val_loss: 4.6253 - val_mean_absolute_error: 1.4991\n",
      "Epoch 12/50\n",
      "\u001b[1m56/56\u001b[0m \u001b[32m━━━━━━━━━━━━━━━━━━━━\u001b[0m\u001b[37m\u001b[0m \u001b[1m1s\u001b[0m 7ms/step - loss: 3.4608 - mean_absolute_error: 1.2291 - val_loss: 4.6989 - val_mean_absolute_error: 1.5040\n",
      "Epoch 13/50\n",
      "\u001b[1m56/56\u001b[0m \u001b[32m━━━━━━━━━━━━━━━━━━━━\u001b[0m\u001b[37m\u001b[0m \u001b[1m0s\u001b[0m 5ms/step - loss: 3.5848 - mean_absolute_error: 1.2503 - val_loss: 4.4953 - val_mean_absolute_error: 1.4739\n",
      "Epoch 14/50\n",
      "\u001b[1m56/56\u001b[0m \u001b[32m━━━━━━━━━━━━━━━━━━━━\u001b[0m\u001b[37m\u001b[0m \u001b[1m0s\u001b[0m 5ms/step - loss: 3.6833 - mean_absolute_error: 1.2484 - val_loss: 4.5061 - val_mean_absolute_error: 1.4606\n",
      "Epoch 15/50\n",
      "\u001b[1m56/56\u001b[0m \u001b[32m━━━━━━━━━━━━━━━━━━━━\u001b[0m\u001b[37m\u001b[0m \u001b[1m0s\u001b[0m 5ms/step - loss: 3.0851 - mean_absolute_error: 1.1829 - val_loss: 4.5471 - val_mean_absolute_error: 1.4738\n",
      "Epoch 16/50\n",
      "\u001b[1m56/56\u001b[0m \u001b[32m━━━━━━━━━━━━━━━━━━━━\u001b[0m\u001b[37m\u001b[0m \u001b[1m0s\u001b[0m 6ms/step - loss: 3.1060 - mean_absolute_error: 1.1705 - val_loss: 4.6427 - val_mean_absolute_error: 1.4778\n",
      "Epoch 17/50\n",
      "\u001b[1m56/56\u001b[0m \u001b[32m━━━━━━━━━━━━━━━━━━━━\u001b[0m\u001b[37m\u001b[0m \u001b[1m0s\u001b[0m 5ms/step - loss: 3.0610 - mean_absolute_error: 1.1745 - val_loss: 4.5020 - val_mean_absolute_error: 1.4463\n",
      "Epoch 18/50\n",
      "\u001b[1m56/56\u001b[0m \u001b[32m━━━━━━━━━━━━━━━━━━━━\u001b[0m\u001b[37m\u001b[0m \u001b[1m0s\u001b[0m 5ms/step - loss: 3.2667 - mean_absolute_error: 1.1996 - val_loss: 4.4444 - val_mean_absolute_error: 1.4368\n",
      "Epoch 19/50\n",
      "\u001b[1m56/56\u001b[0m \u001b[32m━━━━━━━━━━━━━━━━━━━━\u001b[0m\u001b[37m\u001b[0m \u001b[1m0s\u001b[0m 5ms/step - loss: 3.2658 - mean_absolute_error: 1.1915 - val_loss: 4.2432 - val_mean_absolute_error: 1.4011\n",
      "Epoch 20/50\n",
      "\u001b[1m56/56\u001b[0m \u001b[32m━━━━━━━━━━━━━━━━━━━━\u001b[0m\u001b[37m\u001b[0m \u001b[1m0s\u001b[0m 5ms/step - loss: 2.9918 - mean_absolute_error: 1.1292 - val_loss: 4.5406 - val_mean_absolute_error: 1.4486\n",
      "Epoch 21/50\n",
      "\u001b[1m56/56\u001b[0m \u001b[32m━━━━━━━━━━━━━━━━━━━━\u001b[0m\u001b[37m\u001b[0m \u001b[1m0s\u001b[0m 5ms/step - loss: 3.1990 - mean_absolute_error: 1.1798 - val_loss: 4.4484 - val_mean_absolute_error: 1.4291\n",
      "Epoch 22/50\n",
      "\u001b[1m56/56\u001b[0m \u001b[32m━━━━━━━━━━━━━━━━━━━━\u001b[0m\u001b[37m\u001b[0m \u001b[1m0s\u001b[0m 5ms/step - loss: 3.2065 - mean_absolute_error: 1.1969 - val_loss: 4.6072 - val_mean_absolute_error: 1.4511\n",
      "Epoch 23/50\n",
      "\u001b[1m56/56\u001b[0m \u001b[32m━━━━━━━━━━━━━━━━━━━━\u001b[0m\u001b[37m\u001b[0m \u001b[1m0s\u001b[0m 5ms/step - loss: 2.8905 - mean_absolute_error: 1.1245 - val_loss: 4.4900 - val_mean_absolute_error: 1.4360\n",
      "Epoch 24/50\n",
      "\u001b[1m56/56\u001b[0m \u001b[32m━━━━━━━━━━━━━━━━━━━━\u001b[0m\u001b[37m\u001b[0m \u001b[1m0s\u001b[0m 6ms/step - loss: 2.9711 - mean_absolute_error: 1.1545 - val_loss: 4.1848 - val_mean_absolute_error: 1.3844\n",
      "Epoch 25/50\n",
      "\u001b[1m56/56\u001b[0m \u001b[32m━━━━━━━━━━━━━━━━━━━━\u001b[0m\u001b[37m\u001b[0m \u001b[1m0s\u001b[0m 5ms/step - loss: 2.7945 - mean_absolute_error: 1.1241 - val_loss: 4.4214 - val_mean_absolute_error: 1.4160\n",
      "Epoch 26/50\n",
      "\u001b[1m56/56\u001b[0m \u001b[32m━━━━━━━━━━━━━━━━━━━━\u001b[0m\u001b[37m\u001b[0m \u001b[1m0s\u001b[0m 5ms/step - loss: 2.9433 - mean_absolute_error: 1.1566 - val_loss: 4.2702 - val_mean_absolute_error: 1.3887\n",
      "Epoch 27/50\n",
      "\u001b[1m56/56\u001b[0m \u001b[32m━━━━━━━━━━━━━━━━━━━━\u001b[0m\u001b[37m\u001b[0m \u001b[1m0s\u001b[0m 5ms/step - loss: 2.8450 - mean_absolute_error: 1.1213 - val_loss: 4.3748 - val_mean_absolute_error: 1.4021\n",
      "Epoch 28/50\n",
      "\u001b[1m56/56\u001b[0m \u001b[32m━━━━━━━━━━━━━━━━━━━━\u001b[0m\u001b[37m\u001b[0m \u001b[1m0s\u001b[0m 5ms/step - loss: 2.9043 - mean_absolute_error: 1.1220 - val_loss: 4.2826 - val_mean_absolute_error: 1.3910\n",
      "Epoch 29/50\n",
      "\u001b[1m56/56\u001b[0m \u001b[32m━━━━━━━━━━━━━━━━━━━━\u001b[0m\u001b[37m\u001b[0m \u001b[1m0s\u001b[0m 5ms/step - loss: 3.1128 - mean_absolute_error: 1.1482 - val_loss: 4.4355 - val_mean_absolute_error: 1.4079\n",
      "Epoch 30/50\n",
      "\u001b[1m56/56\u001b[0m \u001b[32m━━━━━━━━━━━━━━━━━━━━\u001b[0m\u001b[37m\u001b[0m \u001b[1m0s\u001b[0m 5ms/step - loss: 2.9645 - mean_absolute_error: 1.1455 - val_loss: 4.3605 - val_mean_absolute_error: 1.3905\n",
      "Epoch 31/50\n",
      "\u001b[1m56/56\u001b[0m \u001b[32m━━━━━━━━━━━━━━━━━━━━\u001b[0m\u001b[37m\u001b[0m \u001b[1m0s\u001b[0m 6ms/step - loss: 2.7859 - mean_absolute_error: 1.1345 - val_loss: 4.5008 - val_mean_absolute_error: 1.4062\n",
      "Epoch 32/50\n",
      "\u001b[1m56/56\u001b[0m \u001b[32m━━━━━━━━━━━━━━━━━━━━\u001b[0m\u001b[37m\u001b[0m \u001b[1m0s\u001b[0m 5ms/step - loss: 2.7284 - mean_absolute_error: 1.0976 - val_loss: 4.2519 - val_mean_absolute_error: 1.3747\n",
      "Epoch 33/50\n",
      "\u001b[1m56/56\u001b[0m \u001b[32m━━━━━━━━━━━━━━━━━━━━\u001b[0m\u001b[37m\u001b[0m \u001b[1m0s\u001b[0m 5ms/step - loss: 2.9800 - mean_absolute_error: 1.1509 - val_loss: 4.4167 - val_mean_absolute_error: 1.3856\n",
      "Epoch 34/50\n",
      "\u001b[1m56/56\u001b[0m \u001b[32m━━━━━━━━━━━━━━━━━━━━\u001b[0m\u001b[37m\u001b[0m \u001b[1m0s\u001b[0m 5ms/step - loss: 3.2454 - mean_absolute_error: 1.1724 - val_loss: 4.2049 - val_mean_absolute_error: 1.3614\n",
      "Epoch 35/50\n",
      "\u001b[1m56/56\u001b[0m \u001b[32m━━━━━━━━━━━━━━━━━━━━\u001b[0m\u001b[37m\u001b[0m \u001b[1m0s\u001b[0m 5ms/step - loss: 3.0664 - mean_absolute_error: 1.1473 - val_loss: 4.3082 - val_mean_absolute_error: 1.3700\n",
      "Epoch 36/50\n",
      "\u001b[1m56/56\u001b[0m \u001b[32m━━━━━━━━━━━━━━━━━━━━\u001b[0m\u001b[37m\u001b[0m \u001b[1m0s\u001b[0m 5ms/step - loss: 3.0041 - mean_absolute_error: 1.1902 - val_loss: 4.4189 - val_mean_absolute_error: 1.3855\n",
      "Epoch 37/50\n",
      "\u001b[1m56/56\u001b[0m \u001b[32m━━━━━━━━━━━━━━━━━━━━\u001b[0m\u001b[37m\u001b[0m \u001b[1m0s\u001b[0m 5ms/step - loss: 2.9616 - mean_absolute_error: 1.1418 - val_loss: 4.3604 - val_mean_absolute_error: 1.3746\n",
      "Epoch 38/50\n",
      "\u001b[1m56/56\u001b[0m \u001b[32m━━━━━━━━━━━━━━━━━━━━\u001b[0m\u001b[37m\u001b[0m \u001b[1m0s\u001b[0m 6ms/step - loss: 2.8462 - mean_absolute_error: 1.1041 - val_loss: 4.3693 - val_mean_absolute_error: 1.3885\n",
      "Epoch 39/50\n",
      "\u001b[1m56/56\u001b[0m \u001b[32m━━━━━━━━━━━━━━━━━━━━\u001b[0m\u001b[37m\u001b[0m \u001b[1m0s\u001b[0m 5ms/step - loss: 3.0964 - mean_absolute_error: 1.1431 - val_loss: 4.4191 - val_mean_absolute_error: 1.3761\n",
      "Epoch 40/50\n",
      "\u001b[1m56/56\u001b[0m \u001b[32m━━━━━━━━━━━━━━━━━━━━\u001b[0m\u001b[37m\u001b[0m \u001b[1m0s\u001b[0m 5ms/step - loss: 2.7870 - mean_absolute_error: 1.1117 - val_loss: 4.4325 - val_mean_absolute_error: 1.3842\n",
      "Epoch 41/50\n",
      "\u001b[1m56/56\u001b[0m \u001b[32m━━━━━━━━━━━━━━━━━━━━\u001b[0m\u001b[37m\u001b[0m \u001b[1m0s\u001b[0m 5ms/step - loss: 3.1443 - mean_absolute_error: 1.1696 - val_loss: 4.2877 - val_mean_absolute_error: 1.3698\n",
      "Epoch 42/50\n",
      "\u001b[1m56/56\u001b[0m \u001b[32m━━━━━━━━━━━━━━━━━━━━\u001b[0m\u001b[37m\u001b[0m \u001b[1m0s\u001b[0m 5ms/step - loss: 2.7357 - mean_absolute_error: 1.0651 - val_loss: 4.2968 - val_mean_absolute_error: 1.3667\n",
      "Epoch 43/50\n",
      "\u001b[1m56/56\u001b[0m \u001b[32m━━━━━━━━━━━━━━━━━━━━\u001b[0m\u001b[37m\u001b[0m \u001b[1m0s\u001b[0m 4ms/step - loss: 2.8163 - mean_absolute_error: 1.0814 - val_loss: 4.1452 - val_mean_absolute_error: 1.3479\n",
      "Epoch 44/50\n",
      "\u001b[1m56/56\u001b[0m \u001b[32m━━━━━━━━━━━━━━━━━━━━\u001b[0m\u001b[37m\u001b[0m \u001b[1m0s\u001b[0m 4ms/step - loss: 2.9807 - mean_absolute_error: 1.1223 - val_loss: 4.2018 - val_mean_absolute_error: 1.3448\n",
      "Epoch 45/50\n",
      "\u001b[1m56/56\u001b[0m \u001b[32m━━━━━━━━━━━━━━━━━━━━\u001b[0m\u001b[37m\u001b[0m \u001b[1m0s\u001b[0m 5ms/step - loss: 2.7224 - mean_absolute_error: 1.0992 - val_loss: 4.1055 - val_mean_absolute_error: 1.3262\n",
      "Epoch 46/50\n",
      "\u001b[1m56/56\u001b[0m \u001b[32m━━━━━━━━━━━━━━━━━━━━\u001b[0m\u001b[37m\u001b[0m \u001b[1m0s\u001b[0m 4ms/step - loss: 2.5574 - mean_absolute_error: 1.0624 - val_loss: 4.2447 - val_mean_absolute_error: 1.3480\n",
      "Epoch 47/50\n",
      "\u001b[1m56/56\u001b[0m \u001b[32m━━━━━━━━━━━━━━━━━━━━\u001b[0m\u001b[37m\u001b[0m \u001b[1m0s\u001b[0m 4ms/step - loss: 2.6506 - mean_absolute_error: 1.0938 - val_loss: 4.2789 - val_mean_absolute_error: 1.3570\n",
      "Epoch 48/50\n",
      "\u001b[1m56/56\u001b[0m \u001b[32m━━━━━━━━━━━━━━━━━━━━\u001b[0m\u001b[37m\u001b[0m \u001b[1m0s\u001b[0m 4ms/step - loss: 2.9561 - mean_absolute_error: 1.1200 - val_loss: 4.2804 - val_mean_absolute_error: 1.3462\n",
      "Epoch 49/50\n",
      "\u001b[1m56/56\u001b[0m \u001b[32m━━━━━━━━━━━━━━━━━━━━\u001b[0m\u001b[37m\u001b[0m \u001b[1m0s\u001b[0m 4ms/step - loss: 2.6076 - mean_absolute_error: 1.0719 - val_loss: 4.2489 - val_mean_absolute_error: 1.3470\n",
      "Epoch 50/50\n",
      "\u001b[1m56/56\u001b[0m \u001b[32m━━━━━━━━━━━━━━━━━━━━\u001b[0m\u001b[37m\u001b[0m \u001b[1m0s\u001b[0m 4ms/step - loss: 2.8758 - mean_absolute_error: 1.1293 - val_loss: 4.1751 - val_mean_absolute_error: 1.3318\n",
      "Test Loss (MSE): 7.72907018661499, Test MAE: 1.9242812395095825\n"
     ]
    }
   ],
   "source": [
    "import pandas as pd\n",
    "from sklearn.model_selection import train_test_split\n",
    "from sklearn.preprocessing import StandardScaler\n",
    "from tensorflow.keras.models import Sequential\n",
    "from tensorflow.keras.layers import Dense, Dropout\n",
    "random.seed(42)\n",
    "# Scaling numerical features\n",
    "scaler = StandardScaler()\n",
    "\n",
    "# Scale training, validation, and test sets\n",
    "X_train_scaled = scaler.fit_transform(X_train)\n",
    "X_val_scaled = scaler.transform(X_val)\n",
    "X_test_scaled = scaler.transform(X_test)\n",
    "\n",
    "# Neural Network Model\n",
    "model = Sequential([\n",
    "    Dense(64, activation='relu', input_shape=(X_train_scaled.shape[1],)),  # Input layer with 64 neurons\n",
    "    Dropout(0.2),  # Dropout layer to prevent overfitting\n",
    "    Dense(32, activation='relu'),  # Hidden layer with 32 neurons\n",
    "    Dropout(0.2),\n",
    "    Dense(1)  # Output layer for regression\n",
    "])\n",
    "\n",
    "# Compile the model\n",
    "model.compile(optimizer='adam', loss='mean_squared_error', metrics=['mean_absolute_error'])\n",
    "\n",
    "# Train the model\n",
    "history = model.fit(\n",
    "    X_train_scaled, y_train_auction,\n",
    "    validation_data=(X_val_scaled, y_val_auction),\n",
    "    epochs=50,\n",
    "    batch_size=32,\n",
    "    verbose=1\n",
    ")\n",
    "\n",
    "# Evaluate the model on the test set\n",
    "test_loss, test_mae = model.evaluate(X_test_scaled, y_test_auction, verbose=0)\n",
    "y_test_auction_pred = model.predict(X_test_scaled, verbose = 0)\n",
    "# Print evaluation metrics\n",
    "print(f\"Test Loss (MSE): {test_loss}, Test MAE: {test_mae}\")\n"
   ]
  },
  {
   "cell_type": "code",
   "execution_count": 45,
   "metadata": {},
   "outputs": [
    {
     "data": {
      "application/vnd.plotly.v1+json": {
       "config": {
        "plotlyServerURL": "https://plot.ly"
       },
       "data": [
        {
         "line": {
          "width": 2
         },
         "mode": "lines",
         "name": "Training Loss",
         "type": "scatter",
         "y": [
          14.910167694091797,
          8.521557807922363,
          5.948221683502197,
          4.781521797180176,
          4.4361653327941895,
          4.0269670486450195,
          3.86194109916687,
          3.907754898071289,
          3.7561020851135254,
          3.4654533863067627,
          3.5469865798950195,
          3.325313091278076,
          3.5711491107940674,
          3.5812573432922363,
          3.4191689491271973,
          3.2785613536834717,
          3.2690694332122803,
          3.1092076301574707,
          3.291635513305664,
          3.17057728767395,
          3.2729527950286865,
          3.0800135135650635,
          3.0763587951660156,
          3.1242847442626953,
          2.98138427734375,
          3.024160861968994,
          2.9830198287963867,
          3.012516736984253,
          3.0772616863250732,
          2.9400529861450195,
          2.712721586227417,
          3.0568535327911377,
          2.957404851913452,
          2.908822536468506,
          2.745725154876709,
          2.893125057220459,
          2.8867721557617188,
          2.768031597137451,
          2.7959349155426025,
          2.9338669776916504,
          2.8841278553009033,
          2.6689414978027344,
          2.7393031120300293,
          2.8420944213867188,
          2.741685628890991,
          2.691427707672119,
          2.750973701477051,
          2.79512619972229,
          2.728954315185547,
          2.7101633548736572
         ]
        },
        {
         "line": {
          "dash": "dash",
          "width": 2
         },
         "mode": "lines",
         "name": "Validation Loss",
         "type": "scatter",
         "y": [
          9.812982559204102,
          5.414679050445557,
          4.4405364990234375,
          4.48331880569458,
          4.724280834197998,
          5.091978073120117,
          4.734830856323242,
          5.057852268218994,
          4.687183380126953,
          4.691049575805664,
          4.625277996063232,
          4.698915958404541,
          4.495267391204834,
          4.506080150604248,
          4.54710578918457,
          4.64265775680542,
          4.501986503601074,
          4.444427967071533,
          4.243246555328369,
          4.540615558624268,
          4.4483795166015625,
          4.607199668884277,
          4.490006923675537,
          4.184798240661621,
          4.421428203582764,
          4.270222187042236,
          4.37476110458374,
          4.282615661621094,
          4.435458183288574,
          4.36045503616333,
          4.500790596008301,
          4.251905918121338,
          4.41667366027832,
          4.204862117767334,
          4.30819034576416,
          4.418871879577637,
          4.36044454574585,
          4.369318008422852,
          4.419073104858398,
          4.432518482208252,
          4.287652969360352,
          4.296792507171631,
          4.145181179046631,
          4.2017974853515625,
          4.10552978515625,
          4.244715213775635,
          4.278944969177246,
          4.280425071716309,
          4.2489399909973145,
          4.175082683563232
         ]
        }
       ],
       "layout": {
        "legend": {
         "font": {
          "size": 12
         }
        },
        "template": {
         "data": {
          "bar": [
           {
            "error_x": {
             "color": "#2a3f5f"
            },
            "error_y": {
             "color": "#2a3f5f"
            },
            "marker": {
             "line": {
              "color": "white",
              "width": 0.5
             },
             "pattern": {
              "fillmode": "overlay",
              "size": 10,
              "solidity": 0.2
             }
            },
            "type": "bar"
           }
          ],
          "barpolar": [
           {
            "marker": {
             "line": {
              "color": "white",
              "width": 0.5
             },
             "pattern": {
              "fillmode": "overlay",
              "size": 10,
              "solidity": 0.2
             }
            },
            "type": "barpolar"
           }
          ],
          "carpet": [
           {
            "aaxis": {
             "endlinecolor": "#2a3f5f",
             "gridcolor": "#C8D4E3",
             "linecolor": "#C8D4E3",
             "minorgridcolor": "#C8D4E3",
             "startlinecolor": "#2a3f5f"
            },
            "baxis": {
             "endlinecolor": "#2a3f5f",
             "gridcolor": "#C8D4E3",
             "linecolor": "#C8D4E3",
             "minorgridcolor": "#C8D4E3",
             "startlinecolor": "#2a3f5f"
            },
            "type": "carpet"
           }
          ],
          "choropleth": [
           {
            "colorbar": {
             "outlinewidth": 0,
             "ticks": ""
            },
            "type": "choropleth"
           }
          ],
          "contour": [
           {
            "colorbar": {
             "outlinewidth": 0,
             "ticks": ""
            },
            "colorscale": [
             [
              0,
              "#0d0887"
             ],
             [
              0.1111111111111111,
              "#46039f"
             ],
             [
              0.2222222222222222,
              "#7201a8"
             ],
             [
              0.3333333333333333,
              "#9c179e"
             ],
             [
              0.4444444444444444,
              "#bd3786"
             ],
             [
              0.5555555555555556,
              "#d8576b"
             ],
             [
              0.6666666666666666,
              "#ed7953"
             ],
             [
              0.7777777777777778,
              "#fb9f3a"
             ],
             [
              0.8888888888888888,
              "#fdca26"
             ],
             [
              1,
              "#f0f921"
             ]
            ],
            "type": "contour"
           }
          ],
          "contourcarpet": [
           {
            "colorbar": {
             "outlinewidth": 0,
             "ticks": ""
            },
            "type": "contourcarpet"
           }
          ],
          "heatmap": [
           {
            "colorbar": {
             "outlinewidth": 0,
             "ticks": ""
            },
            "colorscale": [
             [
              0,
              "#0d0887"
             ],
             [
              0.1111111111111111,
              "#46039f"
             ],
             [
              0.2222222222222222,
              "#7201a8"
             ],
             [
              0.3333333333333333,
              "#9c179e"
             ],
             [
              0.4444444444444444,
              "#bd3786"
             ],
             [
              0.5555555555555556,
              "#d8576b"
             ],
             [
              0.6666666666666666,
              "#ed7953"
             ],
             [
              0.7777777777777778,
              "#fb9f3a"
             ],
             [
              0.8888888888888888,
              "#fdca26"
             ],
             [
              1,
              "#f0f921"
             ]
            ],
            "type": "heatmap"
           }
          ],
          "histogram": [
           {
            "marker": {
             "pattern": {
              "fillmode": "overlay",
              "size": 10,
              "solidity": 0.2
             }
            },
            "type": "histogram"
           }
          ],
          "histogram2d": [
           {
            "colorbar": {
             "outlinewidth": 0,
             "ticks": ""
            },
            "colorscale": [
             [
              0,
              "#0d0887"
             ],
             [
              0.1111111111111111,
              "#46039f"
             ],
             [
              0.2222222222222222,
              "#7201a8"
             ],
             [
              0.3333333333333333,
              "#9c179e"
             ],
             [
              0.4444444444444444,
              "#bd3786"
             ],
             [
              0.5555555555555556,
              "#d8576b"
             ],
             [
              0.6666666666666666,
              "#ed7953"
             ],
             [
              0.7777777777777778,
              "#fb9f3a"
             ],
             [
              0.8888888888888888,
              "#fdca26"
             ],
             [
              1,
              "#f0f921"
             ]
            ],
            "type": "histogram2d"
           }
          ],
          "histogram2dcontour": [
           {
            "colorbar": {
             "outlinewidth": 0,
             "ticks": ""
            },
            "colorscale": [
             [
              0,
              "#0d0887"
             ],
             [
              0.1111111111111111,
              "#46039f"
             ],
             [
              0.2222222222222222,
              "#7201a8"
             ],
             [
              0.3333333333333333,
              "#9c179e"
             ],
             [
              0.4444444444444444,
              "#bd3786"
             ],
             [
              0.5555555555555556,
              "#d8576b"
             ],
             [
              0.6666666666666666,
              "#ed7953"
             ],
             [
              0.7777777777777778,
              "#fb9f3a"
             ],
             [
              0.8888888888888888,
              "#fdca26"
             ],
             [
              1,
              "#f0f921"
             ]
            ],
            "type": "histogram2dcontour"
           }
          ],
          "mesh3d": [
           {
            "colorbar": {
             "outlinewidth": 0,
             "ticks": ""
            },
            "type": "mesh3d"
           }
          ],
          "parcoords": [
           {
            "line": {
             "colorbar": {
              "outlinewidth": 0,
              "ticks": ""
             }
            },
            "type": "parcoords"
           }
          ],
          "pie": [
           {
            "automargin": true,
            "type": "pie"
           }
          ],
          "scatter": [
           {
            "fillpattern": {
             "fillmode": "overlay",
             "size": 10,
             "solidity": 0.2
            },
            "type": "scatter"
           }
          ],
          "scatter3d": [
           {
            "line": {
             "colorbar": {
              "outlinewidth": 0,
              "ticks": ""
             }
            },
            "marker": {
             "colorbar": {
              "outlinewidth": 0,
              "ticks": ""
             }
            },
            "type": "scatter3d"
           }
          ],
          "scattercarpet": [
           {
            "marker": {
             "colorbar": {
              "outlinewidth": 0,
              "ticks": ""
             }
            },
            "type": "scattercarpet"
           }
          ],
          "scattergeo": [
           {
            "marker": {
             "colorbar": {
              "outlinewidth": 0,
              "ticks": ""
             }
            },
            "type": "scattergeo"
           }
          ],
          "scattergl": [
           {
            "marker": {
             "colorbar": {
              "outlinewidth": 0,
              "ticks": ""
             }
            },
            "type": "scattergl"
           }
          ],
          "scattermap": [
           {
            "marker": {
             "colorbar": {
              "outlinewidth": 0,
              "ticks": ""
             }
            },
            "type": "scattermap"
           }
          ],
          "scattermapbox": [
           {
            "marker": {
             "colorbar": {
              "outlinewidth": 0,
              "ticks": ""
             }
            },
            "type": "scattermapbox"
           }
          ],
          "scatterpolar": [
           {
            "marker": {
             "colorbar": {
              "outlinewidth": 0,
              "ticks": ""
             }
            },
            "type": "scatterpolar"
           }
          ],
          "scatterpolargl": [
           {
            "marker": {
             "colorbar": {
              "outlinewidth": 0,
              "ticks": ""
             }
            },
            "type": "scatterpolargl"
           }
          ],
          "scatterternary": [
           {
            "marker": {
             "colorbar": {
              "outlinewidth": 0,
              "ticks": ""
             }
            },
            "type": "scatterternary"
           }
          ],
          "surface": [
           {
            "colorbar": {
             "outlinewidth": 0,
             "ticks": ""
            },
            "colorscale": [
             [
              0,
              "#0d0887"
             ],
             [
              0.1111111111111111,
              "#46039f"
             ],
             [
              0.2222222222222222,
              "#7201a8"
             ],
             [
              0.3333333333333333,
              "#9c179e"
             ],
             [
              0.4444444444444444,
              "#bd3786"
             ],
             [
              0.5555555555555556,
              "#d8576b"
             ],
             [
              0.6666666666666666,
              "#ed7953"
             ],
             [
              0.7777777777777778,
              "#fb9f3a"
             ],
             [
              0.8888888888888888,
              "#fdca26"
             ],
             [
              1,
              "#f0f921"
             ]
            ],
            "type": "surface"
           }
          ],
          "table": [
           {
            "cells": {
             "fill": {
              "color": "#EBF0F8"
             },
             "line": {
              "color": "white"
             }
            },
            "header": {
             "fill": {
              "color": "#C8D4E3"
             },
             "line": {
              "color": "white"
             }
            },
            "type": "table"
           }
          ]
         },
         "layout": {
          "annotationdefaults": {
           "arrowcolor": "#2a3f5f",
           "arrowhead": 0,
           "arrowwidth": 1
          },
          "autotypenumbers": "strict",
          "coloraxis": {
           "colorbar": {
            "outlinewidth": 0,
            "ticks": ""
           }
          },
          "colorscale": {
           "diverging": [
            [
             0,
             "#8e0152"
            ],
            [
             0.1,
             "#c51b7d"
            ],
            [
             0.2,
             "#de77ae"
            ],
            [
             0.3,
             "#f1b6da"
            ],
            [
             0.4,
             "#fde0ef"
            ],
            [
             0.5,
             "#f7f7f7"
            ],
            [
             0.6,
             "#e6f5d0"
            ],
            [
             0.7,
             "#b8e186"
            ],
            [
             0.8,
             "#7fbc41"
            ],
            [
             0.9,
             "#4d9221"
            ],
            [
             1,
             "#276419"
            ]
           ],
           "sequential": [
            [
             0,
             "#0d0887"
            ],
            [
             0.1111111111111111,
             "#46039f"
            ],
            [
             0.2222222222222222,
             "#7201a8"
            ],
            [
             0.3333333333333333,
             "#9c179e"
            ],
            [
             0.4444444444444444,
             "#bd3786"
            ],
            [
             0.5555555555555556,
             "#d8576b"
            ],
            [
             0.6666666666666666,
             "#ed7953"
            ],
            [
             0.7777777777777778,
             "#fb9f3a"
            ],
            [
             0.8888888888888888,
             "#fdca26"
            ],
            [
             1,
             "#f0f921"
            ]
           ],
           "sequentialminus": [
            [
             0,
             "#0d0887"
            ],
            [
             0.1111111111111111,
             "#46039f"
            ],
            [
             0.2222222222222222,
             "#7201a8"
            ],
            [
             0.3333333333333333,
             "#9c179e"
            ],
            [
             0.4444444444444444,
             "#bd3786"
            ],
            [
             0.5555555555555556,
             "#d8576b"
            ],
            [
             0.6666666666666666,
             "#ed7953"
            ],
            [
             0.7777777777777778,
             "#fb9f3a"
            ],
            [
             0.8888888888888888,
             "#fdca26"
            ],
            [
             1,
             "#f0f921"
            ]
           ]
          },
          "colorway": [
           "#636efa",
           "#EF553B",
           "#00cc96",
           "#ab63fa",
           "#FFA15A",
           "#19d3f3",
           "#FF6692",
           "#B6E880",
           "#FF97FF",
           "#FECB52"
          ],
          "font": {
           "color": "#2a3f5f"
          },
          "geo": {
           "bgcolor": "white",
           "lakecolor": "white",
           "landcolor": "white",
           "showlakes": true,
           "showland": true,
           "subunitcolor": "#C8D4E3"
          },
          "hoverlabel": {
           "align": "left"
          },
          "hovermode": "closest",
          "mapbox": {
           "style": "light"
          },
          "paper_bgcolor": "white",
          "plot_bgcolor": "white",
          "polar": {
           "angularaxis": {
            "gridcolor": "#EBF0F8",
            "linecolor": "#EBF0F8",
            "ticks": ""
           },
           "bgcolor": "white",
           "radialaxis": {
            "gridcolor": "#EBF0F8",
            "linecolor": "#EBF0F8",
            "ticks": ""
           }
          },
          "scene": {
           "xaxis": {
            "backgroundcolor": "white",
            "gridcolor": "#DFE8F3",
            "gridwidth": 2,
            "linecolor": "#EBF0F8",
            "showbackground": true,
            "ticks": "",
            "zerolinecolor": "#EBF0F8"
           },
           "yaxis": {
            "backgroundcolor": "white",
            "gridcolor": "#DFE8F3",
            "gridwidth": 2,
            "linecolor": "#EBF0F8",
            "showbackground": true,
            "ticks": "",
            "zerolinecolor": "#EBF0F8"
           },
           "zaxis": {
            "backgroundcolor": "white",
            "gridcolor": "#DFE8F3",
            "gridwidth": 2,
            "linecolor": "#EBF0F8",
            "showbackground": true,
            "ticks": "",
            "zerolinecolor": "#EBF0F8"
           }
          },
          "shapedefaults": {
           "line": {
            "color": "#2a3f5f"
           }
          },
          "ternary": {
           "aaxis": {
            "gridcolor": "#DFE8F3",
            "linecolor": "#A2B1C6",
            "ticks": ""
           },
           "baxis": {
            "gridcolor": "#DFE8F3",
            "linecolor": "#A2B1C6",
            "ticks": ""
           },
           "bgcolor": "white",
           "caxis": {
            "gridcolor": "#DFE8F3",
            "linecolor": "#A2B1C6",
            "ticks": ""
           }
          },
          "title": {
           "x": 0.05
          },
          "xaxis": {
           "automargin": true,
           "gridcolor": "#EBF0F8",
           "linecolor": "#EBF0F8",
           "ticks": "",
           "title": {
            "standoff": 15
           },
           "zerolinecolor": "#EBF0F8",
           "zerolinewidth": 2
          },
          "yaxis": {
           "automargin": true,
           "gridcolor": "#EBF0F8",
           "linecolor": "#EBF0F8",
           "ticks": "",
           "title": {
            "standoff": 15
           },
           "zerolinecolor": "#EBF0F8",
           "zerolinewidth": 2
          }
         }
        },
        "title": {
         "text": "Loss Change Over Epochs"
        },
        "xaxis": {
         "title": {
          "text": "Epochs"
         }
        },
        "yaxis": {
         "title": {
          "text": "Loss (MSE)"
         }
        }
       }
      }
     },
     "metadata": {},
     "output_type": "display_data"
    }
   ],
   "source": [
    "import plotly.graph_objects as go\n",
    "\n",
    "# Extract loss values from training history (Ensure history exists)\n",
    "train_loss = history.history['loss']\n",
    "val_loss = history.history['val_loss']\n",
    "\n",
    "# Create a Plotly figure\n",
    "fig = go.Figure()\n",
    "\n",
    "# Add training loss trace\n",
    "fig.add_trace(go.Scatter(\n",
    "    y=train_loss,\n",
    "    mode='lines',\n",
    "    name='Training Loss',\n",
    "    line=dict(width=2)\n",
    "))\n",
    "\n",
    "# Add validation loss trace\n",
    "fig.add_trace(go.Scatter(\n",
    "    y=val_loss,\n",
    "    mode='lines',\n",
    "    name='Validation Loss',\n",
    "    line=dict(width=2, dash='dash')\n",
    "))\n",
    "\n",
    "# Customize layout\n",
    "fig.update_layout(\n",
    "    title='Loss Change Over Epochs',\n",
    "    xaxis_title='Epochs',\n",
    "    yaxis_title='Loss (MSE)',\n",
    "    legend=dict(font=dict(size=12)),\n",
    "    template='plotly_white'\n",
    ")\n",
    "\n",
    "# Show the figure\n",
    "fig.show()"
   ]
  },
  {
   "cell_type": "code",
   "execution_count": 46,
   "metadata": {},
   "outputs": [
    {
     "data": {
      "text/plain": [
       "4.152514895287613"
      ]
     },
     "execution_count": 46,
     "metadata": {},
     "output_type": "execute_result"
    }
   ],
   "source": [
    "profit = 0\n",
    "success = 0\n",
    "y_test_auction = y_test_auction.reset_index(drop = True)\n",
    "y_test_CRR = y_test_CRR.reset_index(drop = True)\n",
    "for i in range(len(y_test_pred)):\n",
    "    if y_test_pred[i] == 1:\n",
    "        if y_test_auction_pred[i][0] >= y_test_auction[i]:\n",
    "            success += 1\n",
    "            profit +=  max(0,y_test_CRR[i] - y_test_auction[i])\n",
    "\n",
    "profit"
   ]
  },
  {
   "cell_type": "code",
   "execution_count": 47,
   "metadata": {},
   "outputs": [
    {
     "data": {
      "text/plain": [
       "0.9959"
      ]
     },
     "execution_count": 47,
     "metadata": {},
     "output_type": "execute_result"
    }
   ],
   "source": [
    "n_trails = 10000\n",
    "larger_cnt = 0\n",
    "for i in range(n_trails):\n",
    "    # Initialize an array of 610 elements, all set to 0\n",
    "    profit_compare = 0\n",
    "    random_compare = np.zeros(510, dtype=int)\n",
    "\n",
    "    # Randomly select 212 unique indices from the array\n",
    "    random_indices = np.random.choice(len(random_compare), 56, replace=False)\n",
    "    random_compare[random_indices] = 1\n",
    "    profit_compare = 0\n",
    "    for i in range(len(random_compare)):\n",
    "        if random_compare[i] == 1:\n",
    "            if y_test_auction_pred[i][0] >= y_test_auction[i]:\n",
    "                profit_compare += max(0, y_test_CRR[i] - y_test_auction[i])\n",
    "\n",
    "    if profit_compare >= profit:\n",
    "        larger_cnt += 1\n",
    "        \n",
    "larger_cnt/n_trails"
   ]
  },
  {
   "cell_type": "code",
   "execution_count": 48,
   "metadata": {},
   "outputs": [
    {
     "data": {
      "text/plain": [
       "-4.1358551047123875"
      ]
     },
     "execution_count": 48,
     "metadata": {},
     "output_type": "execute_result"
    }
   ],
   "source": [
    "pnl = 0\n",
    "y_test_auction = y_test_auction.reset_index(drop = True)\n",
    "y_test_CRR = y_test_CRR.reset_index(drop = True)\n",
    "for i in range(len(y_test_pred)):\n",
    "    if y_test_pred[i] == 1:\n",
    "        if y_test_auction_pred[i][0] >= y_test_auction[i]:\n",
    "            pnl +=  max(0,y_test_CRR[i] - y_test_auction[i]) - y_test_auction[i]\n",
    "\n",
    "pnl"
   ]
  },
  {
   "cell_type": "code",
   "execution_count": 49,
   "metadata": {},
   "outputs": [
    {
     "data": {
      "text/plain": [
       "0.5719"
      ]
     },
     "execution_count": 49,
     "metadata": {},
     "output_type": "execute_result"
    }
   ],
   "source": [
    "n_trails = 10000\n",
    "larger_cnt = 0\n",
    "for i in range(n_trails):\n",
    "    # Initialize an array of 610 elements, all set to 0\n",
    "    pnl_compare = 0\n",
    "    random_compare = np.zeros(510, dtype=int)\n",
    "\n",
    "    # Randomly select 212 unique indices from the array\n",
    "    random_indices = np.random.choice(len(random_compare), 56, replace=False)\n",
    "    random_compare[random_indices] = 1\n",
    "    profit_compare = 0\n",
    "    for i in range(len(random_compare)):\n",
    "        if random_compare[i] == 1:\n",
    "            if y_test_auction_pred[i][0] >= y_test_auction[i]:\n",
    "                pnl_compare += max(0, y_test_CRR[i] - y_test_auction[i]) - y_test_auction[i]\n",
    "\n",
    "    if pnl_compare >= pnl:\n",
    "        larger_cnt += 1\n",
    "        \n",
    "larger_cnt/n_trails"
   ]
  },
  {
   "cell_type": "code",
   "execution_count": null,
   "metadata": {},
   "outputs": [],
   "source": []
  }
 ],
 "metadata": {
  "kernelspec": {
   "display_name": "venv",
   "language": "python",
   "name": "python3"
  },
  "language_info": {
   "codemirror_mode": {
    "name": "ipython",
    "version": 3
   },
   "file_extension": ".py",
   "mimetype": "text/x-python",
   "name": "python",
   "nbconvert_exporter": "python",
   "pygments_lexer": "ipython3",
   "version": "3.11.3"
  }
 },
 "nbformat": 4,
 "nbformat_minor": 2
}
