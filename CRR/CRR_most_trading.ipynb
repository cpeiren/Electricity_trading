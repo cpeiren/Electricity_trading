{
 "cells": [
  {
   "cell_type": "markdown",
   "metadata": {},
   "source": [
    "## TASK I: CRRs - Most Trading\n",
    "#### Yijia Zeng\n",
    "---"
   ]
  },
  {
   "cell_type": "markdown",
   "metadata": {},
   "source": [
    "### Task Objectives:\n",
    "1. Collect the monthly/annual auction price data for CRRs in ERCOT at this link:\n",
    "https://www.ercot.com/mp/data-products/data-product-details?id=NP7-803-M\n",
    "\n",
    "2. Identify the CRRs with the most trading activities/volumes based on data in 1.\n",
    "    - CRRs with highest total bid volume\n",
    "    - CRRs with highest number of bids\n",
    "    - CRR actual quantities awarded\n",
    "\n",
    "3. Collect the Dayahead electricity prices associated with the most actively traded\n",
    "CRRs found in 2.\n",
    "     - DAM hourly LMP https://www.ercot.com/mp/data-products/data-product-details?id=NP4-183-CD -> calculate FTR actual payoff\n",
    "\n",
    "4. Compare the auction prices and the realized payoffs of the CRRs found in 2.\n",
    "    - Monthly Payout Distribution v.s. Auction Price Distribution\n",
    "    - Average of Monthly Payout Distribution v.s. Average Auction Price Distribution\n",
    "---\n"
   ]
  },
  {
   "cell_type": "markdown",
   "metadata": {},
   "source": [
    "### Data \n",
    "- Monthly (Nov 2023 - Oct 2024)\n",
    "    - Common_AuctionawardsAndOffers\n",
    "        - Description: Corresponding list of CRR bids and offers for that particular market, including Source, Sink, Bid Type, Start Date, End Date, Hedge Type, Time-of-Use, MW, award Price and Shadow Price.\n",
    "    - Common_MarketResults （？）\n",
    "        - Description: orresponding list of CRR  results for that particular market and the AH, including CRR ID, Original CRR ID, Account Holder, Hedge Type, Class, CRR Type, Source, Sink, Start Date, End Date, Time-of-Use, award24Hour, MW, and Shadow Price.  \n",
    "    - LMP in Dayahead Market\n",
    "        - https://www.ercot.com/mp/data-products/data-product-details?id=NP4-183-CD\n",
    "--- "
   ]
  },
  {
   "cell_type": "markdown",
   "metadata": {},
   "source": [
    "### Definition\n",
    "- Most Trading Activities can be defined as\n",
    "    - CRRs with highest total award volume\n",
    "    - CRRs with highest number of awards\n",
    "    - CRRs actual quantities awarded\n",
    "---"
   ]
  },
  {
   "cell_type": "markdown",
   "metadata": {},
   "source": [
    "#### Resources\n",
    "1. CRRs Description https://www.ercot.com/files/docs/2020/05/12/2019_09_Set301_M2_-_CRR.pdf\n",
    "    - OffPeak: 0100 - 0600; 2200 - 0000\n",
    "    - PeakWE: 0700 - 2200\n",
    "    - PeakWD: 0700 - 2200\n",
    "2. DAM hourly LMP https://www.ercot.com/mp/data-products/data-product-details?id=NP4-183-CD -> calculate FTR actual payoff\n",
    "3. Not-to-Exceed Price\n",
    "\n"
   ]
  },
  {
   "cell_type": "code",
   "execution_count": 198,
   "metadata": {},
   "outputs": [],
   "source": [
    "import pandas as pd\n",
    "import numpy as np\n",
    "import random\n",
    "import matplotlib.pyplot as plt\n",
    "import plotly.express as px\n",
    "import plotly.graph_objects as go\n",
    "from plotly.subplots import make_subplots\n",
    "import plotly.io as pio"
   ]
  },
  {
   "cell_type": "code",
   "execution_count": 199,
   "metadata": {},
   "outputs": [],
   "source": [
    "CRR_bid = pd.read_csv('data/Common_AuctionBidsAndOffers_2023.NOV.Monthly.Auction_AUCTION.csv')\n",
    "CRR_award = pd.read_csv('data/Common_MarketResults_2023.NOV.Monthly.Auction_AUCTION.csv')"
   ]
  },
  {
   "cell_type": "markdown",
   "metadata": {},
   "source": [
    "### CRR Obligations - monthly\n",
    "---\n",
    "#### Workflow\n",
    "- Filter all CRR obligation\n",
    "\n",
    "- Seperating Data into Buy v.s. Sell\n",
    "\n",
    "- Generate corresponding CRR with most trading/activities events identified by (source, sink, time of use)\n",
    "    - Apply previous 3 evaluation standards\n",
    "    - Select first 500 CRRs for each criteria\n",
    "\n",
    "- Find related auction clearing price\n",
    "    - Shadow price in Market Results\n",
    "\n",
    "- Find Corresponding LMPs to calculate CRR payout\n",
    "    - $$\\sum (P_{sink} - P_{source})$$"
   ]
  },
  {
   "cell_type": "code",
   "execution_count": 200,
   "metadata": {},
   "outputs": [],
   "source": [
    "CRR_bid_buy_obl = CRR_bid[(CRR_bid['BidType'] == \"BUY\") & (CRR_bid['HedgeType'] == \"OBL\")]\n",
    "CRR_bid_sell_obl = CRR_bid[(CRR_bid['BidType'] == \"SELL\") &(CRR_bid['HedgeType'] == \"OBL\")]"
   ]
  },
  {
   "cell_type": "code",
   "execution_count": 201,
   "metadata": {},
   "outputs": [],
   "source": [
    "first_k_highest = 1000"
   ]
  },
  {
   "cell_type": "markdown",
   "metadata": {},
   "source": [
    "##### Find CRRs Obligations(Source, Sink, TimeOfUse) with most trading activities\n",
    "---"
   ]
  },
  {
   "cell_type": "code",
   "execution_count": 202,
   "metadata": {},
   "outputs": [],
   "source": [
    "CRR_bid_buy_highest_volume = (CRR_bid_buy_obl.groupby(['Source', 'Sink', 'TimeOfUse'], as_index=False)['MW']\n",
    "                              .sum()\n",
    "                              .sort_values('MW', ascending = False)\n",
    "                              .reset_index(drop = True))[:first_k_highest]\n",
    "CRR_bid_sell_highest_volume = (CRR_bid_sell_obl.groupby(['Source', 'Sink', 'TimeOfUse'], as_index=False)['MW']\n",
    "                              .sum()\n",
    "                              .sort_values('MW', ascending = False)\n",
    "                              .reset_index(drop = True))[:first_k_highest]\n",
    "CRR_bid_buy_highest_bids = (CRR_bid_buy_obl.groupby(['Source', 'Sink', 'TimeOfUse'], as_index=False)['MW']\n",
    "                              .count()\n",
    "                              .sort_values('MW', ascending = False)\n",
    "                              .reset_index(drop = True))[:first_k_highest]\n",
    "CRR_bid_sell_highest_bids = (CRR_bid_sell_obl.groupby(['Source', 'Sink', 'TimeOfUse'], as_index=False)['MW']\n",
    "                              .count()\n",
    "                              .sort_values('MW', ascending = False)\n",
    "                              .reset_index(drop = True))[:first_k_highest]"
   ]
  },
  {
   "cell_type": "code",
   "execution_count": 203,
   "metadata": {},
   "outputs": [],
   "source": [
    "CRR_award_buy_obl = CRR_award[(CRR_award['BidType'] == \"BUY\") & (CRR_award['HedgeType'] == \"OBL\")]\n",
    "CRR_award_sell_obl = CRR_award[(CRR_award['BidType'] == \"SELL\") & (CRR_award['HedgeType'] == \"OBL\")]"
   ]
  },
  {
   "cell_type": "code",
   "execution_count": 204,
   "metadata": {},
   "outputs": [],
   "source": [
    "CRR_award_buy_highest_volume = (CRR_award_buy_obl.groupby(['Source', 'Sink', 'TimeOfUse'], as_index=False)['MW']\n",
    "                              .sum()\n",
    "                              .sort_values('MW', ascending = False)\n",
    "                              .reset_index(drop = True))[:first_k_highest]\n",
    "CRR_award_sell_highest_volume = (CRR_award_sell_obl.groupby(['Source', 'Sink', 'TimeOfUse'], as_index=False)['MW']\n",
    "                              .sum()\n",
    "                              .sort_values('MW', ascending = False)\n",
    "                              .reset_index(drop = True))[:first_k_highest]"
   ]
  },
  {
   "cell_type": "markdown",
   "metadata": {},
   "source": [
    "##### Find Corresponding Auction Prices \n",
    "---\n",
    "- Quantity * Auction Clearing Price"
   ]
  },
  {
   "cell_type": "code",
   "execution_count": 205,
   "metadata": {},
   "outputs": [],
   "source": [
    "def find_price(market_result, df, identified_col, target_col):\n",
    "    market_result = market_result[identified_col + target_col]\n",
    "    df = pd.merge(df, market_result, on = identified_col, how = 'left')\n",
    "    df['auction_total'] = df['MW'] * df[target_col[0]]\n",
    "    return df"
   ]
  },
  {
   "cell_type": "code",
   "execution_count": 206,
   "metadata": {},
   "outputs": [],
   "source": [
    "identified_col = ['Source', 'Sink', 'TimeOfUse']\n",
    "target_col = ['ShadowPricePerMWH']\n",
    "CRR_clearing_price_buy = CRR_award[CRR_award['BidType'] == \"BUY\"].groupby(identified_col, as_index=False)[target_col[0]].mean()\n",
    "CRR_clearing_price_sell = CRR_award[CRR_award['BidType'] == \"SELL\"].groupby(identified_col, as_index=False)[target_col[0]].mean()"
   ]
  },
  {
   "cell_type": "code",
   "execution_count": 207,
   "metadata": {},
   "outputs": [],
   "source": [
    "CRR_award_buy_highest_volume = find_price(CRR_clearing_price_buy, CRR_award_buy_highest_volume, identified_col, target_col)\n",
    "CRR_bid_buy_highest_volume = find_price(CRR_clearing_price_buy, CRR_bid_buy_highest_volume, identified_col, target_col)\n",
    "CRR_bid_buy_highest_bids = find_price(CRR_clearing_price_buy, CRR_bid_buy_highest_bids, identified_col, target_col)\n",
    "CRR_award_sell_highest_volume = find_price(CRR_clearing_price_sell, CRR_award_sell_highest_volume, identified_col, target_col)\n",
    "CRR_bid_sell_highest_volume = find_price(CRR_clearing_price_sell, CRR_bid_sell_highest_volume, identified_col, target_col)\n",
    "CRR_bid_sell_highest_bids = find_price(CRR_clearing_price_sell, CRR_bid_sell_highest_bids, identified_col, target_col)"
   ]
  },
  {
   "cell_type": "markdown",
   "metadata": {},
   "source": [
    "##### Find Actual Payoff of CRR\n",
    "---\n",
    "- "
   ]
  },
  {
   "cell_type": "code",
   "execution_count": null,
   "metadata": {},
   "outputs": [],
   "source": []
  },
  {
   "cell_type": "code",
   "execution_count": null,
   "metadata": {},
   "outputs": [],
   "source": []
  },
  {
   "cell_type": "code",
   "execution_count": null,
   "metadata": {},
   "outputs": [],
   "source": []
  },
  {
   "cell_type": "code",
   "execution_count": null,
   "metadata": {},
   "outputs": [],
   "source": []
  },
  {
   "cell_type": "code",
   "execution_count": null,
   "metadata": {},
   "outputs": [],
   "source": []
  },
  {
   "cell_type": "code",
   "execution_count": null,
   "metadata": {},
   "outputs": [],
   "source": []
  },
  {
   "cell_type": "markdown",
   "metadata": {},
   "source": []
  },
  {
   "cell_type": "markdown",
   "metadata": {},
   "source": []
  },
  {
   "cell_type": "markdown",
   "metadata": {},
   "source": []
  }
 ],
 "metadata": {
  "kernelspec": {
   "display_name": "ai_in_finance",
   "language": "python",
   "name": "python3"
  },
  "language_info": {
   "codemirror_mode": {
    "name": "ipython",
    "version": 3
   },
   "file_extension": ".py",
   "mimetype": "text/x-python",
   "name": "python",
   "nbconvert_exporter": "python",
   "pygments_lexer": "ipython3",
   "version": "3.12.4"
  }
 },
 "nbformat": 4,
 "nbformat_minor": 2
}
